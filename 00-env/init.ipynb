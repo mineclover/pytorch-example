{
  "cells": [
    {
      "cell_type": "markdown",
      "metadata": {},
      "source": [
        "\n",
        "\n",
        "파이토치 설치 https://pytorch.org/get-started/locally/"
      ]
    },
    {
      "cell_type": "markdown",
      "metadata": {},
      "source": [
        "conda -c 는 채널 선택 플러그임"
      ]
    },
    {
      "cell_type": "code",
      "execution_count": 1,
      "metadata": {},
      "outputs": [
        {
          "name": "stdout",
          "output_type": "stream",
          "text": [
            "Channels:\n",
            " - defaults\n",
            " - conda-forge\n",
            "Platform: win-64\n",
            "Collecting package metadata (repodata.json): ...working... done\n",
            "Solving environment: ...working... done\n",
            "\n",
            "# All requested packages already installed.\n",
            "\n",
            "\n",
            "Note: you may need to restart the kernel to use updated packages.\n",
            "Channels:\n",
            " - defaults\n",
            " - conda-forge\n",
            "Platform: win-64\n",
            "Collecting package metadata (repodata.json): ...working... done\n",
            "Solving environment: ...working... done\n",
            "\n",
            "# All requested packages already installed.\n",
            "\n",
            "\n",
            "Note: you may need to restart the kernel to use updated packages.\n"
          ]
        },
        {
          "name": "stderr",
          "output_type": "stream",
          "text": [
            "UsageError: Line magic function `%pip3` not found.\n"
          ]
        }
      ],
      "source": [
        "# conda에 설치하기\n",
        "\n",
        "\n",
        "%conda install ipykernel\n",
        "%conda install numpy pandas matplotlib\n",
        "# cuda가 글로벌에 설치되있으면 cuda 설치는 생략됨\n",
        "# window\n",
        "%pip3 install torch torchvision torchaudio --index-url https://download.pytorch.org/whl/cu126\n",
        "\n",
        "# mac\n",
        "# %pip3 install torch torchvision torchaudio\n",
        "\n",
        "%conda install tqdm \n",
        "%conda install -c conda-forge ipywidgets  tqdm\n",
        "%conda install -c conda-forge pyarrow\n",
        " \n"
      ]
    },
    {
      "cell_type": "code",
      "execution_count": null,
      "metadata": {},
      "outputs": [],
      "source": [
        "%pip install datasets sacremoses transformers sentencepiece"
      ]
    },
    {
      "cell_type": "code",
      "execution_count": null,
      "metadata": {},
      "outputs": [],
      "source": [
        "import torch\n",
        "x = torch.rand(5, 3)\n",
        "print(x)\n",
        "torch.cuda.is_available()"
      ]
    }
  ],
  "metadata": {
    "kernelspec": {
      "display_name": "ai2",
      "language": "python",
      "name": "python3"
    },
    "language_info": {
      "codemirror_mode": {
        "name": "ipython",
        "version": 3
      },
      "file_extension": ".py",
      "mimetype": "text/x-python",
      "name": "python",
      "nbconvert_exporter": "python",
      "pygments_lexer": "ipython3",
      "version": "3.11.11"
    }
  },
  "nbformat": 4,
  "nbformat_minor": 2
}

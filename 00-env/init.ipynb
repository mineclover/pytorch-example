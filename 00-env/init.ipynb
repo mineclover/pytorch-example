{
  "cells": [
    {
      "cell_type": "markdown",
      "metadata": {},
      "source": [
        "\n",
        "\n",
        "파이토치 설치 https://pytorch.org/get-started/locally/"
      ]
    },
    {
      "cell_type": "markdown",
      "metadata": {},
      "source": [
        "conda -c 는 채널 선택 플러그임"
      ]
    },
    {
      "cell_type": "code",
      "execution_count": null,
      "metadata": {},
      "outputs": [],
      "source": [
        "# conda에 설치하기\n",
        "\n",
        "\n",
        "%conda install ipykernel\n",
        "%conda install numpy pandas matplotlib\n",
        "# cuda가 글로벌에 설치되있으면 cuda 설치는 생략됨\n",
        "# window\n",
        "%pip3 install torch torchvision torchaudio --index-url https://download.pytorch.org/whl/cu126\n",
        "\n",
        "# mac\n",
        "# %pip3 install torch torchvision torchaudio\n",
        "\n",
        "%conda install tqdm \n",
        "%conda install -c conda-forge ipywidgets  tqdm\n",
        "%conda install -c conda-forge pyarrow\n",
        " \n"
      ]
    },
    {
      "cell_type": "code",
      "execution_count": 3,
      "metadata": {},
      "outputs": [
        {
          "name": "stdout",
          "output_type": "stream",
          "text": [
            "Requirement already satisfied: datasets in d:\\.conda\\envs\\ai2\\lib\\site-packages (3.5.0)\n",
            "Requirement already satisfied: sacremoses in d:\\.conda\\envs\\ai2\\lib\\site-packages (0.1.1)\n",
            "Requirement already satisfied: filelock in d:\\.conda\\envs\\ai2\\lib\\site-packages (from datasets) (3.13.1)\n",
            "Requirement already satisfied: numpy>=1.17 in d:\\.conda\\envs\\ai2\\lib\\site-packages (from datasets) (2.2.4)\n",
            "Requirement already satisfied: pyarrow>=15.0.0 in d:\\.conda\\envs\\ai2\\lib\\site-packages (from datasets) (19.0.1)\n",
            "Requirement already satisfied: dill<0.3.9,>=0.3.0 in d:\\.conda\\envs\\ai2\\lib\\site-packages (from datasets) (0.3.8)\n",
            "Requirement already satisfied: pandas in d:\\.conda\\envs\\ai2\\lib\\site-packages (from datasets) (2.2.3)\n",
            "Requirement already satisfied: requests>=2.32.2 in d:\\.conda\\envs\\ai2\\lib\\site-packages (from datasets) (2.32.3)\n",
            "Requirement already satisfied: tqdm>=4.66.3 in d:\\.conda\\envs\\ai2\\lib\\site-packages (from datasets) (4.67.1)\n",
            "Requirement already satisfied: xxhash in d:\\.conda\\envs\\ai2\\lib\\site-packages (from datasets) (3.5.0)\n",
            "Requirement already satisfied: multiprocess<0.70.17 in d:\\.conda\\envs\\ai2\\lib\\site-packages (from datasets) (0.70.16)\n",
            "Requirement already satisfied: fsspec<=2024.12.0,>=2023.1.0 in d:\\.conda\\envs\\ai2\\lib\\site-packages (from fsspec[http]<=2024.12.0,>=2023.1.0->datasets) (2024.6.1)\n",
            "Requirement already satisfied: aiohttp in d:\\.conda\\envs\\ai2\\lib\\site-packages (from datasets) (3.11.14)\n",
            "Requirement already satisfied: huggingface-hub>=0.24.0 in d:\\.conda\\envs\\ai2\\lib\\site-packages (from datasets) (0.30.1)\n",
            "Requirement already satisfied: packaging in d:\\.conda\\envs\\ai2\\lib\\site-packages (from datasets) (24.2)\n",
            "Requirement already satisfied: pyyaml>=5.1 in d:\\.conda\\envs\\ai2\\lib\\site-packages (from datasets) (6.0.2)\n",
            "Requirement already satisfied: regex in d:\\.conda\\envs\\ai2\\lib\\site-packages (from sacremoses) (2024.11.6)\n",
            "Requirement already satisfied: click in d:\\.conda\\envs\\ai2\\lib\\site-packages (from sacremoses) (8.1.8)\n",
            "Requirement already satisfied: joblib in d:\\.conda\\envs\\ai2\\lib\\site-packages (from sacremoses) (1.4.2)\n",
            "Requirement already satisfied: aiohappyeyeballs>=2.3.0 in d:\\.conda\\envs\\ai2\\lib\\site-packages (from aiohttp->datasets) (2.6.1)\n",
            "Requirement already satisfied: aiosignal>=1.1.2 in d:\\.conda\\envs\\ai2\\lib\\site-packages (from aiohttp->datasets) (1.3.2)\n",
            "Requirement already satisfied: attrs>=17.3.0 in d:\\.conda\\envs\\ai2\\lib\\site-packages (from aiohttp->datasets) (25.3.0)\n",
            "Requirement already satisfied: frozenlist>=1.1.1 in d:\\.conda\\envs\\ai2\\lib\\site-packages (from aiohttp->datasets) (1.5.0)\n",
            "Requirement already satisfied: multidict<7.0,>=4.5 in d:\\.conda\\envs\\ai2\\lib\\site-packages (from aiohttp->datasets) (6.2.0)\n",
            "Requirement already satisfied: propcache>=0.2.0 in d:\\.conda\\envs\\ai2\\lib\\site-packages (from aiohttp->datasets) (0.3.1)\n",
            "Requirement already satisfied: yarl<2.0,>=1.17.0 in d:\\.conda\\envs\\ai2\\lib\\site-packages (from aiohttp->datasets) (1.18.3)\n",
            "Requirement already satisfied: typing-extensions>=3.7.4.3 in d:\\.conda\\envs\\ai2\\lib\\site-packages (from huggingface-hub>=0.24.0->datasets) (4.12.2)\n",
            "Requirement already satisfied: charset-normalizer<4,>=2 in d:\\.conda\\envs\\ai2\\lib\\site-packages (from requests>=2.32.2->datasets) (3.4.1)\n",
            "Requirement already satisfied: idna<4,>=2.5 in d:\\.conda\\envs\\ai2\\lib\\site-packages (from requests>=2.32.2->datasets) (3.10)\n",
            "Requirement already satisfied: urllib3<3,>=1.21.1 in d:\\.conda\\envs\\ai2\\lib\\site-packages (from requests>=2.32.2->datasets) (2.3.0)\n",
            "Requirement already satisfied: certifi>=2017.4.17 in d:\\.conda\\envs\\ai2\\lib\\site-packages (from requests>=2.32.2->datasets) (2025.1.31)\n",
            "Requirement already satisfied: colorama in d:\\.conda\\envs\\ai2\\lib\\site-packages (from tqdm>=4.66.3->datasets) (0.4.6)\n",
            "Requirement already satisfied: python-dateutil>=2.8.2 in d:\\.conda\\envs\\ai2\\lib\\site-packages (from pandas->datasets) (2.9.0.post0)\n",
            "Requirement already satisfied: pytz>=2020.1 in d:\\.conda\\envs\\ai2\\lib\\site-packages (from pandas->datasets) (2024.1)\n",
            "Requirement already satisfied: tzdata>=2022.7 in d:\\.conda\\envs\\ai2\\lib\\site-packages (from pandas->datasets) (2023.3)\n",
            "Requirement already satisfied: six>=1.5 in d:\\.conda\\envs\\ai2\\lib\\site-packages (from python-dateutil>=2.8.2->pandas->datasets) (1.17.0)\n",
            "Note: you may need to restart the kernel to use updated packages.\n",
            "Collecting transformers\n",
            "  Downloading transformers-4.50.3-py3-none-any.whl.metadata (39 kB)\n",
            "Collecting sentencepiece\n",
            "  Downloading sentencepiece-0.2.0-cp311-cp311-win_amd64.whl.metadata (8.3 kB)\n",
            "Requirement already satisfied: filelock in d:\\.conda\\envs\\ai2\\lib\\site-packages (from transformers) (3.13.1)\n",
            "Requirement already satisfied: huggingface-hub<1.0,>=0.26.0 in d:\\.conda\\envs\\ai2\\lib\\site-packages (from transformers) (0.30.1)\n",
            "Requirement already satisfied: numpy>=1.17 in d:\\.conda\\envs\\ai2\\lib\\site-packages (from transformers) (2.2.4)\n",
            "Requirement already satisfied: packaging>=20.0 in d:\\.conda\\envs\\ai2\\lib\\site-packages (from transformers) (24.2)\n",
            "Requirement already satisfied: pyyaml>=5.1 in d:\\.conda\\envs\\ai2\\lib\\site-packages (from transformers) (6.0.2)\n",
            "Requirement already satisfied: regex!=2019.12.17 in d:\\.conda\\envs\\ai2\\lib\\site-packages (from transformers) (2024.11.6)\n",
            "Requirement already satisfied: requests in d:\\.conda\\envs\\ai2\\lib\\site-packages (from transformers) (2.32.3)\n",
            "Collecting tokenizers<0.22,>=0.21 (from transformers)\n",
            "  Downloading tokenizers-0.21.1-cp39-abi3-win_amd64.whl.metadata (6.9 kB)\n",
            "Collecting safetensors>=0.4.3 (from transformers)\n",
            "  Downloading safetensors-0.5.3-cp38-abi3-win_amd64.whl.metadata (3.9 kB)\n",
            "Requirement already satisfied: tqdm>=4.27 in d:\\.conda\\envs\\ai2\\lib\\site-packages (from transformers) (4.67.1)\n",
            "Requirement already satisfied: fsspec>=2023.5.0 in d:\\.conda\\envs\\ai2\\lib\\site-packages (from huggingface-hub<1.0,>=0.26.0->transformers) (2024.6.1)\n",
            "Requirement already satisfied: typing-extensions>=3.7.4.3 in d:\\.conda\\envs\\ai2\\lib\\site-packages (from huggingface-hub<1.0,>=0.26.0->transformers) (4.12.2)\n",
            "Requirement already satisfied: colorama in d:\\.conda\\envs\\ai2\\lib\\site-packages (from tqdm>=4.27->transformers) (0.4.6)\n",
            "Requirement already satisfied: charset-normalizer<4,>=2 in d:\\.conda\\envs\\ai2\\lib\\site-packages (from requests->transformers) (3.4.1)\n",
            "Requirement already satisfied: idna<4,>=2.5 in d:\\.conda\\envs\\ai2\\lib\\site-packages (from requests->transformers) (3.10)\n",
            "Requirement already satisfied: urllib3<3,>=1.21.1 in d:\\.conda\\envs\\ai2\\lib\\site-packages (from requests->transformers) (2.3.0)\n",
            "Requirement already satisfied: certifi>=2017.4.17 in d:\\.conda\\envs\\ai2\\lib\\site-packages (from requests->transformers) (2025.1.31)\n",
            "Downloading transformers-4.50.3-py3-none-any.whl (10.2 MB)\n",
            "   ---------------------------------------- 0.0/10.2 MB ? eta -:--:--\n",
            "   --------- ------------------------------ 2.4/10.2 MB 12.2 MB/s eta 0:00:01\n",
            "   ------------------ --------------------- 4.7/10.2 MB 11.9 MB/s eta 0:00:01\n",
            "   -------------------------- ------------- 6.8/10.2 MB 11.6 MB/s eta 0:00:01\n",
            "   ------------------------------ --------- 7.9/10.2 MB 9.5 MB/s eta 0:00:01\n",
            "   ---------------------------------------  10.0/10.2 MB 9.8 MB/s eta 0:00:01\n",
            "   ---------------------------------------- 10.2/10.2 MB 9.5 MB/s eta 0:00:00\n",
            "Downloading sentencepiece-0.2.0-cp311-cp311-win_amd64.whl (991 kB)\n",
            "   ---------------------------------------- 0.0/991.5 kB ? eta -:--:--\n",
            "   ---------------------------------------- 991.5/991.5 kB 9.2 MB/s eta 0:00:00\n",
            "Downloading safetensors-0.5.3-cp38-abi3-win_amd64.whl (308 kB)\n",
            "Downloading tokenizers-0.21.1-cp39-abi3-win_amd64.whl (2.4 MB)\n",
            "   ---------------------------------------- 0.0/2.4 MB ? eta -:--:--\n",
            "   -------------------------------------- - 2.4/2.4 MB 12.2 MB/s eta 0:00:01\n",
            "   ---------------------------------------- 2.4/2.4 MB 10.7 MB/s eta 0:00:00\n",
            "Installing collected packages: sentencepiece, safetensors, tokenizers, transformers\n",
            "Successfully installed safetensors-0.5.3 sentencepiece-0.2.0 tokenizers-0.21.1 transformers-4.50.3\n",
            "Note: you may need to restart the kernel to use updated packages.\n"
          ]
        }
      ],
      "source": [
        "%pip install datasets sacremoses\n",
        "%pip install transformers sentencepiece"
      ]
    },
    {
      "cell_type": "code",
      "execution_count": null,
      "metadata": {},
      "outputs": [],
      "source": [
        "import torch\n",
        "x = torch.rand(5, 3)\n",
        "print(x)\n",
        "torch.cuda.is_available()"
      ]
    }
  ],
  "metadata": {
    "kernelspec": {
      "display_name": "ai2",
      "language": "python",
      "name": "python3"
    },
    "language_info": {
      "codemirror_mode": {
        "name": "ipython",
        "version": 3
      },
      "file_extension": ".py",
      "mimetype": "text/x-python",
      "name": "python",
      "nbconvert_exporter": "python",
      "pygments_lexer": "ipython3",
      "version": "3.11.11"
    }
  },
  "nbformat": 4,
  "nbformat_minor": 2
}

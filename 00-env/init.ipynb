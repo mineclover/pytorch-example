{
  "cells": [
    {
      "cell_type": "markdown",
      "metadata": {},
      "source": [
        "\n",
        "\n",
        "파이토치 설치 https://pytorch.org/get-started/locally/"
      ]
    },
    {
      "cell_type": "markdown",
      "metadata": {},
      "source": [
        "conda -c 는 채널 선택 플러그임"
      ]
    },
    {
      "cell_type": "code",
      "execution_count": 1,
      "metadata": {},
      "outputs": [
        {
          "name": "stdout",
          "output_type": "stream",
          "text": [
            "Channels:\n",
            " - defaults\n",
            " - conda-forge\n",
            "Platform: win-64\n",
            "Collecting package metadata (repodata.json): ...working... done\n",
            "Solving environment: ...working... done\n",
            "\n",
            "## Package Plan ##\n",
            "\n",
            "  environment location: d:\\.conda\\envs\\ai2\n",
            "\n",
            "  added / updated specs:\n",
            "    - ipykernel\n",
            "\n",
            "\n",
            "The following packages will be UPDATED:\n",
            "\n",
            "  ipykernel          conda-forge/noarch::ipykernel-6.29.5-~ --> pkgs/main/win-64::ipykernel-6.29.5-py311haa95532_1 \n",
            "\n",
            "\n",
            "\n",
            "Downloading and Extracting Packages: ...working... done\n",
            "Preparing transaction: done\n",
            "Verifying transaction: done\n",
            "Executing transaction: done\n",
            "\n",
            "Note: you may need to restart the kernel to use updated packages.\n",
            "Channels:\n",
            " - defaults\n",
            " - conda-forge\n",
            "Platform: win-64\n",
            "Collecting package metadata (repodata.json): ...working... done\n",
            "Solving environment: ...working... done\n",
            "\n",
            "## Package Plan ##\n",
            "\n",
            "  environment location: d:\\.conda\\envs\\ai2\n",
            "\n",
            "  added / updated specs:\n",
            "    - matplotlib\n",
            "    - numpy\n",
            "    - pandas\n",
            "\n",
            "\n",
            "The following packages will be downloaded:\n",
            "\n",
            "    package                    |            build\n",
            "    ---------------------------|-----------------\n",
            "    qtbase-6.7.3               |       h0804d20_0        32.2 MB\n",
            "    ------------------------------------------------------------\n",
            "                                           Total:        32.2 MB\n",
            "\n",
            "The following NEW packages will be INSTALLED:\n",
            "\n",
            "  blas               pkgs/main/win-64::blas-1.0-mkl \n",
            "  bottleneck         pkgs/main/win-64::bottleneck-1.4.2-py311h57dcf0c_0 \n",
            "  brotli-python      pkgs/main/win-64::brotli-python-1.0.9-py311h5da7b33_9 \n",
            "  contourpy          pkgs/main/win-64::contourpy-1.3.1-py311h214f63a_0 \n",
            "  cycler             pkgs/main/noarch::cycler-0.11.0-pyhd3eb1b0_0 \n",
            "  fonttools          pkgs/main/win-64::fonttools-4.55.3-py311h827c3e9_0 \n",
            "  freetype           pkgs/main/win-64::freetype-2.12.1-ha860e81_0 \n",
            "  icu                conda-forge/win-64::icu-73.2-h63175ca_0 \n",
            "  intel-openmp       pkgs/main/win-64::intel-openmp-2023.1.0-h59b6b97_46320 \n",
            "  jpeg               pkgs/main/win-64::jpeg-9e-h827c3e9_3 \n",
            "  kiwisolver         pkgs/main/win-64::kiwisolver-1.4.8-py311h5da7b33_0 \n",
            "  lcms2              pkgs/main/win-64::lcms2-2.16-hb4a4139_0 \n",
            "  lerc               pkgs/main/win-64::lerc-4.0.0-h5da7b33_0 \n",
            "  libdeflate         pkgs/main/win-64::libdeflate-1.22-h5bf469e_0 \n",
            "  libpng             pkgs/main/win-64::libpng-1.6.39-h8cc25b3_0 \n",
            "  libpq              conda-forge/win-64::libpq-17.0-hfc46ca6_0 \n",
            "  libtiff            pkgs/main/win-64::libtiff-4.5.1-h44ae7cf_1 \n",
            "  libwebp-base       pkgs/main/win-64::libwebp-base-1.3.2-h3d04722_1 \n",
            "  lz4-c              pkgs/main/win-64::lz4-c-1.9.4-h2bbff1b_1 \n",
            "  matplotlib         pkgs/main/win-64::matplotlib-3.10.0-py311haa95532_0 \n",
            "  matplotlib-base    pkgs/main/win-64::matplotlib-base-3.10.0-py311he19b0ae_0 \n",
            "  mkl                pkgs/main/win-64::mkl-2023.1.0-h6b88ed4_46358 \n",
            "  mkl-service        pkgs/main/win-64::mkl-service-2.4.0-py311h827c3e9_2 \n",
            "  mkl_fft            pkgs/main/win-64::mkl_fft-1.3.11-py311h827c3e9_0 \n",
            "  mkl_random         pkgs/main/win-64::mkl_random-1.2.8-py311hea22821_0 \n",
            "  numexpr            pkgs/main/win-64::numexpr-2.10.1-py311h4cd664f_0 \n",
            "  numpy              pkgs/main/win-64::numpy-2.2.4-py311hb0d8612_0 \n",
            "  numpy-base         pkgs/main/win-64::numpy-base-2.2.4-py311h557a8af_0 \n",
            "  openjpeg           pkgs/main/win-64::openjpeg-2.5.2-hae555c5_0 \n",
            "  pandas             pkgs/main/win-64::pandas-2.2.3-py311h5da7b33_0 \n",
            "  pillow             pkgs/main/win-64::pillow-11.1.0-py311h096bfcc_0 \n",
            "  pyparsing          pkgs/main/win-64::pyparsing-3.2.0-py311haa95532_0 \n",
            "  pyqt               pkgs/main/win-64::pyqt-6.7.1-py311h5da7b33_0 \n",
            "  pyqt6-sip          pkgs/main/win-64::pyqt6-sip-13.9.1-py311h827c3e9_0 \n",
            "  python-tzdata      pkgs/main/noarch::python-tzdata-2023.3-pyhd3eb1b0_0 \n",
            "  pytz               pkgs/main/win-64::pytz-2024.1-py311haa95532_0 \n",
            "  qtbase             pkgs/main/win-64::qtbase-6.7.3-h0804d20_0 \n",
            "  qtdeclarative      pkgs/main/win-64::qtdeclarative-6.7.2-h5da7b33_0 \n",
            "  qtsvg              pkgs/main/win-64::qtsvg-6.7.2-hf2fb9eb_0 \n",
            "  qttools            pkgs/main/win-64::qttools-6.7.2-h0de5f00_0 \n",
            "  qtwebchannel       pkgs/main/win-64::qtwebchannel-6.7.2-h5da7b33_0 \n",
            "  qtwebsockets       pkgs/main/win-64::qtwebsockets-6.7.2-h5da7b33_0 \n",
            "  sip                pkgs/main/win-64::sip-6.10.0-py311h5da7b33_0 \n",
            "  tbb                pkgs/main/win-64::tbb-2021.8.0-h59b6b97_0 \n",
            "  unicodedata2       pkgs/main/win-64::unicodedata2-15.1.0-py311h827c3e9_1 \n",
            "  zstd               pkgs/main/win-64::zstd-1.5.6-h8880b57_0 \n",
            "\n",
            "The following packages will be DOWNGRADED:\n",
            "\n",
            "  setuptools                         75.8.0-py311haa95532_0 --> 72.1.0-py311haa95532_0 \n",
            "\n",
            "\n",
            "\n",
            "Downloading and Extracting Packages: ...working...\n",
            "qtbase-6.7.3         | 32.2 MB   |            |   0% \n",
            "qtbase-6.7.3         | 32.2 MB   | 1          |   2% \n",
            "qtbase-6.7.3         | 32.2 MB   | 4          |   4% \n",
            "qtbase-6.7.3         | 32.2 MB   | 7          |   7% \n",
            "qtbase-6.7.3         | 32.2 MB   | #          |  11% \n",
            "qtbase-6.7.3         | 32.2 MB   | #4         |  14% \n",
            "qtbase-6.7.3         | 32.2 MB   | #7         |  18% \n",
            "qtbase-6.7.3         | 32.2 MB   | ##         |  21% \n",
            "qtbase-6.7.3         | 32.2 MB   | ##4        |  24% \n",
            "qtbase-6.7.3         | 32.2 MB   | ##7        |  27% \n",
            "qtbase-6.7.3         | 32.2 MB   | ###        |  31% \n",
            "qtbase-6.7.3         | 32.2 MB   | ###3       |  34% \n",
            "qtbase-6.7.3         | 32.2 MB   | ###7       |  37% \n",
            "qtbase-6.7.3         | 32.2 MB   | ####       |  41% \n",
            "qtbase-6.7.3         | 32.2 MB   | ####3      |  44% \n",
            "qtbase-6.7.3         | 32.2 MB   | ####7      |  47% \n",
            "qtbase-6.7.3         | 32.2 MB   | #####      |  51% \n",
            "qtbase-6.7.3         | 32.2 MB   | #####4     |  54% \n",
            "qtbase-6.7.3         | 32.2 MB   | #####7     |  58% \n",
            "qtbase-6.7.3         | 32.2 MB   | ######1    |  61% \n",
            "qtbase-6.7.3         | 32.2 MB   | ######4    |  64% \n",
            "qtbase-6.7.3         | 32.2 MB   | ######7    |  68% \n",
            "qtbase-6.7.3         | 32.2 MB   | #######    |  71% \n",
            "qtbase-6.7.3         | 32.2 MB   | #######3   |  73% \n",
            "qtbase-6.7.3         | 32.2 MB   | #######6   |  77% \n",
            "qtbase-6.7.3         | 32.2 MB   | ########   |  80% \n",
            "qtbase-6.7.3         | 32.2 MB   | ########3  |  84% \n",
            "qtbase-6.7.3         | 32.2 MB   | ########7  |  87% \n",
            "qtbase-6.7.3         | 32.2 MB   | #########  |  91% \n",
            "qtbase-6.7.3         | 32.2 MB   | #########4 |  94% \n",
            "qtbase-6.7.3         | 32.2 MB   | #########7 |  97% \n",
            "qtbase-6.7.3         | 32.2 MB   | ########## | 100% \n",
            "qtbase-6.7.3         | 32.2 MB   | ########## | 100% \n",
            "                                                     \n",
            " done\n",
            "Preparing transaction: done\n",
            "Verifying transaction: done\n",
            "Executing transaction: done\n",
            "\n",
            "Note: you may need to restart the kernel to use updated packages.\n"
          ]
        },
        {
          "name": "stderr",
          "output_type": "stream",
          "text": [
            "UsageError: Line magic function `%pip3` not found.\n"
          ]
        }
      ],
      "source": [
        "# conda에 설치하기\n",
        "\n",
        "\n",
        "%conda install ipykernel\n",
        "%conda install numpy pandas matplotlib\n",
        "# cuda가 글로벌에 설치되있으면 cuda 설치는 생략됨\n",
        "# window\n",
        "%pip3 install torch torchvision torchaudio --index-url https://download.pytorch.org/whl/cu126\n",
        "\n",
        "# mac\n",
        "# %pip3 install torch torchvision torchaudio\n",
        "\n",
        "%conda install tqdm\n",
        "%conda install -c conda-forge ipywidgets  tqdm"
      ]
    },
    {
      "cell_type": "markdown",
      "metadata": {},
      "source": []
    },
    {
      "cell_type": "code",
      "execution_count": 3,
      "metadata": {},
      "outputs": [
        {
          "name": "stdout",
          "output_type": "stream",
          "text": [
            "tensor([[0.5230, 0.6221, 0.1688],\n",
            "        [0.8632, 0.9415, 0.7956],\n",
            "        [0.7285, 0.4105, 0.2308],\n",
            "        [0.1764, 0.2355, 0.5224],\n",
            "        [0.0950, 0.4460, 0.0208]])\n"
          ]
        },
        {
          "data": {
            "text/plain": [
              "True"
            ]
          },
          "execution_count": 3,
          "metadata": {},
          "output_type": "execute_result"
        }
      ],
      "source": [
        "import torch\n",
        "x = torch.rand(5, 3)\n",
        "print(x)\n",
        "torch.cuda.is_available()"
      ]
    }
  ],
  "metadata": {
    "kernelspec": {
      "display_name": "ai2",
      "language": "python",
      "name": "python3"
    },
    "language_info": {
      "codemirror_mode": {
        "name": "ipython",
        "version": 3
      },
      "file_extension": ".py",
      "mimetype": "text/x-python",
      "name": "python",
      "nbconvert_exporter": "python",
      "pygments_lexer": "ipython3",
      "version": "3.11.11"
    }
  },
  "nbformat": 4,
  "nbformat_minor": 2
}

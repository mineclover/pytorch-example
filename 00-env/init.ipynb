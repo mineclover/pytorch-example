{
  "cells": [
    {
      "cell_type": "markdown",
      "metadata": {},
      "source": [
        "\n",
        "\n",
        "파이토치 설치 https://pytorch.org/get-started/locally/"
      ]
    },
    {
      "cell_type": "markdown",
      "metadata": {},
      "source": [
        "conda -c 는 채널 선택 플러그임"
      ]
    },
    {
      "cell_type": "code",
      "execution_count": 2,
      "execution_count": 2,
      "metadata": {},
      "outputs": [
        {
          "name": "stdout",
          "output_type": "stream",
          "text": [
            "Channels:\n",
            " - conda-forge\n",
            " - defaults\n",
            "Platform: osx-arm64\n",
            "Collecting package metadata (repodata.json): done\n",
            "Solving environment: done\n",
            "\n",
            "## Package Plan ##\n",
            "\n",
            "  environment location: /opt/anaconda3/envs/ai\n",
            "\n",
            "  added / updated specs:\n",
            "    - ipywidgets\n",
            "\n",
            "\n",
            "The following packages will be downloaded:\n",
            "\n",
            "    package                    |            build\n",
            "    ---------------------------|-----------------\n",
            "    ipywidgets-8.1.5           |     pyhd8ed1ab_1         111 KB  conda-forge\n",
            "    jupyterlab_widgets-3.0.13  |     pyhd8ed1ab_1         182 KB  conda-forge\n",
            "    widgetsnbextension-4.0.13  |     pyhd8ed1ab_1         877 KB  conda-forge\n",
            "    ------------------------------------------------------------\n",
            "                                           Total:         1.1 MB\n",
            "\n",
            "The following NEW packages will be INSTALLED:\n",
            "\n",
            "  ipywidgets         conda-forge/noarch::ipywidgets-8.1.5-pyhd8ed1ab_1 \n",
            "  jupyterlab_widgets conda-forge/noarch::jupyterlab_widgets-3.0.13-pyhd8ed1ab_1 \n",
            "  widgetsnbextension conda-forge/noarch::widgetsnbextension-4.0.13-pyhd8ed1ab_1 \n",
            "\n",
            "\n",
            "\n",
            "Downloading and Extracting Packages:\n",
            "widgetsnbextension-4 | 877 KB    |                                       |   0% \n",
            "jupyterlab_widgets-3 | 182 KB    |                                       |   0% \u001b[A\n",
            "\n",
            "widgetsnbextension-4 | 877 KB    | ###3                                  |   9% \u001b[A\u001b[A\n",
            "jupyterlab_widgets-3 | 182 KB    | ##################################### | 100% \u001b[A\n",
            "jupyterlab_widgets-3 | 182 KB    | ##################################### | 100% \u001b[A\n",
            "\n",
            "ipywidgets-8.1.5     | 111 KB    | ##################################### | 100% \u001b[A\u001b[A\n",
            "\n",
            "                                                                                \u001b[A\u001b[A\n",
            "                                                                                \u001b[A\n",
            "\n",
            "                                                                                \u001b[A\u001b[A\n",
            "Preparing transaction: done\n",
            "Verifying transaction: done\n",
            "Executing transaction: done\n",
            "\n",
            "Note: you may need to restart the kernel to use updated packages.\n"
          ]
        }
      ],
      "source": [
        "# conda에 설치하기\n",
        "\n",
        "\n",
        "# %conda install ipykernel\n",
        "# %conda install numpy pandas matplotlib\n",
        "# cuda가 글로벌에 설치되있으면 cuda 설치는 생략됨\n",
        "# window\n",
        "# %pip3 install torch torchvision torchaudio --index-url https://download.pytorch.org/whl/cu126\n",
        "\n",
        "# mac\n",
        "# %pip3 install torch torchvision torchaudio\n",
        "\n",
        "# %conda install tqdm\n",
        "%conda install -c conda-forge ipywidgets"
      ]
    },
    {
      "cell_type": "markdown",
      "metadata": {},
      "source": []
    },
    {
      "cell_type": "code",
      "execution_count": 3,
      "metadata": {},
      "outputs": [
        {
          "name": "stdout",
          "output_type": "stream",
          "text": [
            "tensor([[0.5230, 0.6221, 0.1688],\n",
            "        [0.8632, 0.9415, 0.7956],\n",
            "        [0.7285, 0.4105, 0.2308],\n",
            "        [0.1764, 0.2355, 0.5224],\n",
            "        [0.0950, 0.4460, 0.0208]])\n"
          ]
        },
        {
          "data": {
            "text/plain": [
              "True"
            ]
          },
          "execution_count": 3,
          "metadata": {},
          "output_type": "execute_result"
        }
      ],
      "source": [
        "import torch\n",
        "x = torch.rand(5, 3)\n",
        "print(x)\n",
        "torch.cuda.is_available()"
      ]
    }
  ],
  "metadata": {
    "kernelspec": {
      "display_name": "ai",
      "language": "python",
      "name": "python3"
    },
    "language_info": {
      "codemirror_mode": {
        "name": "ipython",
        "version": 3
      },
      "file_extension": ".py",
      "mimetype": "text/x-python",
      "name": "python",
      "nbconvert_exporter": "python",
      "pygments_lexer": "ipython3",
      "version": "3.11.11"
    }
  },
  "nbformat": 4,
  "nbformat_minor": 2
}

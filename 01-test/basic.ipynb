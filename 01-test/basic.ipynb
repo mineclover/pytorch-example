{
 "cells": [
  {
   "cell_type": "markdown",
   "metadata": {
    "id": "OPJenlrhihrh"
   },
   "source": []
  },
  {
   "cell_type": "code",
   "execution_count": 1,
   "metadata": {
    "executionInfo": {
     "elapsed": 6315,
     "status": "ok",
     "timestamp": 1724212693193,
     "user": {
      "displayName": "조승혁",
      "userId": "15759752471844115325"
     },
     "user_tz": -540
    },
    "id": "6lXVfXoDtoQh"
   },
   "outputs": [],
   "source": [
    "import os\n",
    "os.environ['KMP_DUPLICATE_LIB_OK']='TRUE'\n",
    "import torch\n",
    "# GPU 사용 가능하면 cuda, 아니면 cpu\n",
    "import torchvision\n",
    "import torchvision.transforms as transforms\n",
    "from torch import Tensor\n",
    "from typing import List, Tuple, Dict, Any, Union\n",
    "\n",
    "\n",
    "device = torch.device(\"cuda\" if torch.cuda.is_available() else \"cpu\")"
   ]
  },
  {
   "cell_type": "markdown",
   "metadata": {
    "id": "pF-1zQvmiult"
   },
   "source": [
    "다음은 dataset을 준비합니다. 손글씨 dataset은 MNIST라는 유명한 dataset이 있습니다. 이 dataset은 `torchvision`에서 제공하고 있으며, 다음과 같이 다운로드 받을 수 있습니다."
   ]
  },
  {
   "cell_type": "code",
   "execution_count": 2,
   "metadata": {
    "colab": {
     "base_uri": "https://localhost:8080/"
    },
    "executionInfo": {
     "elapsed": 22007,
     "status": "ok",
     "timestamp": 1724212718261,
     "user": {
      "displayName": "조승혁",
      "userId": "15759752471844115325"
     },
     "user_tz": -540
    },
    "id": "KAYlqPaRt6ti",
    "outputId": "67e51d96-85b4-4129-efc8-7938006afdd4"
   },
   "outputs": [],
   "source": [
    "transform = transforms.ToTensor()\n",
    "\n",
    "trainset = torchvision.datasets.MNIST(\n",
    "    root='./data',\n",
    "    train=True,\n",
    "    download=True,\n",
    "    transform=transform\n",
    ")"
   ]
  },
  {
   "cell_type": "markdown",
   "metadata": {
    "id": "p-GqH7_ZjVMs"
   },
   "source": [
    "MNIST는 손글씨 사진과 어떤 숫자를 의미하는지에 대한 label의 pair들로 구성되어있습니다.\n",
    "이 때, 우리는 PyTorch model을 사용할 것이기 때문에 손글씨 사진들을 모두 tensor로 변환해야합니다.\n",
    "이러한 부가적인 변환들은 `torchvision.transforms`에서 제공하고 있으며, `torchvision.datasets.MNIST`에서 `transform` 인자로 받을 수 있습니다.\n",
    "우리는 단순히 사진을 tensor로 바꾸고 싶기 때문에 `transforms.ToTensor()` transformation을 넘겨줍니다.\n",
    "\n",
    "다음은 전체 data의 개수와 첫 번째 data를 출력한 결과입니다."
   ]
  },
  {
   "cell_type": "code",
   "execution_count": 3,
   "metadata": {
    "colab": {
     "base_uri": "https://localhost:8080/",
     "height": 481
    },
    "executionInfo": {
     "elapsed": 601,
     "status": "ok",
     "timestamp": 1724212727291,
     "user": {
      "displayName": "조승혁",
      "userId": "15759752471844115325"
     },
     "user_tz": -540
    },
    "id": "Zsp3sHmojyhT",
    "outputId": "3511bb75-e677-4fb8-894b-69e22c80f4bc"
   },
   "outputs": [
    {
     "name": "stdout",
     "output_type": "stream",
     "text": [
      "60000\n",
      "torch.Size([1, 28, 28]) 5\n"
     ]
    },
    {
     "data": {
      "text/plain": [
       "<matplotlib.image.AxesImage at 0x286b88cc850>"
      ]
     },
     "execution_count": 3,
     "metadata": {},
     "output_type": "execute_result"
    },
    {
     "data": {
      "image/png": "[encoded data removed]",
      "text/plain": [
       "<Figure size 640x480 with 1 Axes>"
      ]
     },
     "metadata": {},
     "output_type": "display_data"
    }
   ],
   "source": [
    "from matplotlib import pyplot as plt\n",
    "\n",
    "\n",
    "print(len(trainset))\n",
    "print(trainset[0][0].shape, trainset[0][1])\n",
    "plt.imshow(trainset[0][0][0], cmap='gray')"
   ]
  },
  {
   "cell_type": "markdown",
   "metadata": {},
   "source": [
    "# NOTE\n",
    "\n",
    "데이터 셋 구성\n",
    "\n",
    "trainset[테스트 데이터 갯수][데이터와 정답, 튜플]\n",
    "0 : 데이터 텐서\n",
    "1 : 정답 값\n"
   ]
  },
  {
   "cell_type": "code",
   "execution_count": 4,
   "metadata": {},
   "outputs": [
    {
     "name": "stdout",
     "output_type": "stream",
     "text": [
      "<class 'tuple'>\n",
      "2\n",
      "<class 'torch.Tensor'>\n",
      "<class 'int'>\n"
     ]
    }
   ],
   "source": [
    "\n",
    "print( type(trainset[0]))\n",
    "print(len(trainset[0]))\n",
    "print( type(trainset[0][0]))\n",
    "print( type(trainset[0][1]))\n"
   ]
  },
  {
   "cell_type": "markdown",
   "metadata": {
    "id": "udm8wDBsi301"
   },
   "source": [
    "첫 번째 출력결과를 통해 우리는 6만장의 손글씨 data가 있는 것을 알 수 있습니다.\n",
    "그리고 두 번째 출력결과를 통해 첫 번째 data의 shape은 (1, 28, 28)이고 5라는 숫자를 쓴 사진이라는 것을 알 수 있습니다.\n",
    "마지막으로 `plt.imshow`를 통해 visualize 했을 때 5라는 숫자가 나오는 것을 알 수 있습니다.\n",
    "\n",
    "다음은 SGD를 위해 dataset을 여러 개의 batch로 나누는 과정을 PyTorch로 구현한 모습입니다."
   ]
  },
  {
   "cell_type": "code",
   "execution_count": 5,
   "metadata": {
    "id": "UxKu3kA2i5WH"
   },
   "outputs": [],
   "source": [
    "batch_size = 256\n",
    "\n",
    "\n",
    "\n",
    "trainloader = torch.utils.data.DataLoader(\n",
    "    trainset,\n",
    "    batch_size=batch_size,\n",
    "    shuffle=False\n",
    ")"
   ]
  },
  {
   "cell_type": "code",
   "execution_count": 6,
   "metadata": {
    "colab": {
     "base_uri": "https://localhost:8080/"
    },
    "executionInfo": {
     "elapsed": 33,
     "status": "ok",
     "timestamp": 1723366306519,
     "user": {
      "displayName": "조승혁",
      "userId": "15759752471844115325"
     },
     "user_tz": -540
    },
    "id": "_Hd7XxyAvVNz",
    "outputId": "185acb61-2ed7-4110-b325-c0e016ca60b0"
   },
   "outputs": [
    {
     "name": "stdout",
     "output_type": "stream",
     "text": [
      "torch.Size([256, 1, 28, 28]) torch.Size([256])\n"
     ]
    }
   ],
   "source": [
    "dataiter = iter(trainloader)\n",
    "images, labels = next(dataiter)\n",
    "print(images.shape, labels.shape)"
   ]
  },
  {
   "cell_type": "code",
   "execution_count": 7,
   "metadata": {
    "id": "OLOA-ZGTuVVG"
   },
   "outputs": [],
   "source": [
    "from torch import nn\n",
    "\n",
    "\n",
    "class Model(nn.Module):\n",
    "  def __init__(self, input_dim, n_dim):\n",
    "    super().__init__()\n",
    "\n",
    "    self.layer1 = nn.Linear(input_dim, n_dim)\n",
    "    self.layer2 = nn.Linear(n_dim, n_dim)\n",
    "    self.layer3 = nn.Linear(n_dim, 10)\n",
    "\n",
    "    self.act = nn.ReLU()\n",
    "\n",
    "  def forward(self, x):\n",
    "    x = torch.flatten(x, start_dim=1)\n",
    "    x = self.act(self.layer1(x))\n",
    "    x = self.act(self.layer2(x))\n",
    "    x = self.act(self.layer3(x))\n",
    "    # x = self.layer3(x)\n",
    "\n",
    "\n",
    "    return x\n",
    "\n",
    "\n",
    "model = Model(28 * 28 * 1, 1024)"
   ]
  },
  {
   "cell_type": "code",
   "execution_count": 8,
   "metadata": {
    "id": "ypS0TcOlvBhZ"
   },
   "outputs": [],
   "source": [
    "from torch.optim import SGD\n",
    "\n",
    "lr = 0.0001\n",
    "model = model.to('cuda')\n",
    "\n",
    "optimizer = SGD(model.parameters(), lr=lr)"
   ]
  },
  {
   "cell_type": "code",
   "execution_count": 9,
   "metadata": {
    "id": "d6M4SpWQoML9"
   },
   "outputs": [],
   "source": [
    "def accuracy(model, dataloader):\n",
    "  cnt = 0\n",
    "  acc = 0\n",
    "\n",
    "  for data in dataloader:\n",
    "    inputs, labels = data\n",
    "    inputs, labels = inputs.to('cuda'), labels.to('cuda')\n",
    "\n",
    "    preds = model(inputs)\n",
    "    preds = torch.argmax(preds, dim=-1)\n",
    "\n",
    "    cnt += labels.shape[0]\n",
    "    acc += (labels == preds).sum().item()\n",
    "\n",
    "  return acc / cnt"
   ]
  },
  {
   "cell_type": "code",
   "execution_count": 10,
   "metadata": {},
   "outputs": [],
   "source": [
    "testset = torchvision.datasets.MNIST(\n",
    "    root='./data',\n",
    "    train=False,\n",
    "    download=True,\n",
    "    transform=transform\n",
    ")\n",
    "\n",
    "testloader = torch.utils.data.DataLoader(\n",
    "    testset,\n",
    "    batch_size=batch_size,\n",
    "    shuffle=False\n",
    ")"
   ]
  },
  {
   "cell_type": "markdown",
   "metadata": {
    "id": "5PooeOKMnRfZ"
   },
   "source": [
    "이전 코드와 거의 똑같습니다. 다른 점은 `model.to('cuda')` 코드를 통해 우리가 구현한 model을 GPU로 옮긴 것입니다.\n",
    "MNIST 부터는 모델과 data가 커지면서 훨씬 많은 행렬 연산이 이루어지기 때문에 GPU를 활용하는 것이 빠릅니다.\n",
    "\n",
    "다음은 model을 MNIST에 학습하는 코드입니다."
   ]
  },
  {
   "cell_type": "code",
   "execution_count": 11,
   "metadata": {
    "colab": {
     "base_uri": "https://localhost:8080/"
    },
    "executionInfo": {
     "elapsed": 786155,
     "status": "ok",
     "timestamp": 1723367093025,
     "user": {
      "displayName": "조승혁",
      "userId": "15759752471844115325"
     },
     "user_tz": -540
    },
    "id": "TryX1hewvNiB",
    "outputId": "4e4a9282-d49a-40ff-c26c-d00fb7c0af79"
   },
   "outputs": [
    {
     "name": "stdout",
     "output_type": "stream",
     "text": [
      "Epoch   0 | Loss: 541.027590751648\n",
      "Epoch   1 | Loss: 540.8887839317322\n",
      "Epoch   2 | Loss: 540.7384557723999\n",
      "Epoch   3 | Loss: 540.5696382522583\n",
      "Epoch   4 | Loss: 540.375022649765\n",
      "Epoch   5 | Loss: 540.1532437801361\n",
      "Epoch   6 | Loss: 539.9135687351227\n",
      "Epoch   7 | Loss: 539.6709387302399\n",
      "Epoch   8 | Loss: 539.435140132904\n",
      "Epoch   9 | Loss: 539.2106502056122\n",
      "Epoch  10 | Loss: 538.9973874092102\n",
      "Epoch  11 | Loss: 538.7927424907684\n",
      "Epoch  12 | Loss: 538.5940914154053\n",
      "Epoch  13 | Loss: 538.3999781608582\n",
      "Epoch  14 | Loss: 538.2092912197113\n",
      "Epoch  15 | Loss: 538.0208585262299\n",
      "Epoch  16 | Loss: 537.8338968753815\n",
      "Epoch  17 | Loss: 537.6480257511139\n",
      "Epoch  18 | Loss: 537.4628551006317\n",
      "Epoch  19 | Loss: 537.2780447006226\n",
      "Epoch  20 | Loss: 537.0933587551117\n",
      "Epoch  21 | Loss: 536.9085834026337\n",
      "Epoch  22 | Loss: 536.7236087322235\n",
      "Epoch  23 | Loss: 536.5382931232452\n",
      "Epoch  24 | Loss: 536.3525166511536\n",
      "Epoch  25 | Loss: 536.1661732196808\n",
      "Epoch  26 | Loss: 535.9791870117188\n",
      "Epoch  27 | Loss: 535.7914674282074\n",
      "Epoch  28 | Loss: 535.602949142456\n",
      "Epoch  29 | Loss: 535.4135982990265\n",
      "Epoch  30 | Loss: 535.2233157157898\n",
      "Epoch  31 | Loss: 535.032062292099\n",
      "Epoch  32 | Loss: 534.8397483825684\n",
      "Epoch  33 | Loss: 534.6463029384613\n",
      "Epoch  34 | Loss: 534.4516394138336\n",
      "Epoch  35 | Loss: 534.2556676864624\n",
      "Epoch  36 | Loss: 534.0583052635193\n",
      "Epoch  37 | Loss: 533.8592882156372\n",
      "Epoch  38 | Loss: 533.6585202217102\n",
      "Epoch  39 | Loss: 533.4558389186859\n",
      "Epoch  40 | Loss: 533.250958442688\n",
      "Epoch  41 | Loss: 533.0432472229004\n",
      "Epoch  42 | Loss: 532.8321130275726\n",
      "Epoch  43 | Loss: 532.61665391922\n",
      "Epoch  44 | Loss: 532.395749092102\n",
      "Epoch  45 | Loss: 532.1681933403015\n",
      "Epoch  46 | Loss: 531.9328796863556\n",
      "Epoch  47 | Loss: 531.6882193088531\n",
      "Epoch  48 | Loss: 531.4351181983948\n",
      "Epoch  49 | Loss: 531.1773409843445\n",
      "Epoch  50 | Loss: 530.9173498153687\n",
      "Epoch  51 | Loss: 530.6563823223114\n",
      "Epoch  52 | Loss: 530.3947308063507\n",
      "Epoch  53 | Loss: 530.1331059932709\n",
      "Epoch  54 | Loss: 529.8712100982666\n",
      "Epoch  55 | Loss: 529.6086089611053\n",
      "Epoch  56 | Loss: 529.3451778888702\n",
      "Epoch  57 | Loss: 529.0804846286774\n",
      "Epoch  58 | Loss: 528.8143222332001\n",
      "Epoch  59 | Loss: 528.5464868545532\n",
      "Epoch  60 | Loss: 528.2768332958221\n",
      "Epoch  61 | Loss: 528.0051288604736\n",
      "Epoch  62 | Loss: 527.7312417030334\n",
      "Epoch  63 | Loss: 527.4550988674164\n",
      "Epoch  64 | Loss: 527.1766364574432\n",
      "Epoch  65 | Loss: 526.8957977294922\n",
      "Epoch  66 | Loss: 526.6124575138092\n",
      "Epoch  67 | Loss: 526.3265469074249\n",
      "Epoch  68 | Loss: 526.0380067825317\n",
      "Epoch  69 | Loss: 525.7467913627625\n",
      "Epoch  70 | Loss: 525.4528522491455\n",
      "Epoch  71 | Loss: 525.1561236381531\n",
      "Epoch  72 | Loss: 524.856565952301\n",
      "Epoch  73 | Loss: 524.5541014671326\n",
      "Epoch  74 | Loss: 524.2486960887909\n",
      "Epoch  75 | Loss: 523.9402768611908\n",
      "Epoch  76 | Loss: 523.6288304328918\n",
      "Epoch  77 | Loss: 523.3143041133881\n",
      "Epoch  78 | Loss: 522.9966375827789\n",
      "Epoch  79 | Loss: 522.6757757663727\n",
      "Epoch  80 | Loss: 522.351692199707\n",
      "Epoch  81 | Loss: 522.0243146419525\n",
      "Epoch  82 | Loss: 521.6936066150665\n",
      "Epoch  83 | Loss: 521.3595399856567\n",
      "Epoch  84 | Loss: 521.0220432281494\n",
      "Epoch  85 | Loss: 520.681081533432\n",
      "Epoch  86 | Loss: 520.3366215229034\n",
      "Epoch  87 | Loss: 519.9885976314545\n",
      "Epoch  88 | Loss: 519.6369996070862\n",
      "Epoch  89 | Loss: 519.2817485332489\n",
      "Epoch  90 | Loss: 518.9228076934814\n",
      "Epoch  91 | Loss: 518.5601613521576\n",
      "Epoch  92 | Loss: 518.1937873363495\n",
      "Epoch  93 | Loss: 517.8236074447632\n",
      "Epoch  94 | Loss: 517.4495854377747\n",
      "Epoch  95 | Loss: 517.0716700553894\n",
      "Epoch  96 | Loss: 516.6898169517517\n",
      "Epoch  97 | Loss: 516.3040015697479\n",
      "Epoch  98 | Loss: 515.9141530990601\n",
      "Epoch  99 | Loss: 515.5202805995941\n"
     ]
    }
   ],
   "source": [
    "train_accs = []\n",
    "test_accs = []\n",
    "\n",
    "\n",
    "\n",
    "n_epochs = 100\n",
    "criterion = nn.CrossEntropyLoss()  # 분류 문제에 적합한 손실 함수\n",
    "\n",
    "\n",
    "\n",
    "for epoch in range(n_epochs):\n",
    "  total_loss = 0.\n",
    "  for data in trainloader:\n",
    "    model.zero_grad()\n",
    "    inputs, labels = data\n",
    "    inputs, labels = inputs.to('cuda'), labels.to('cuda')\n",
    "\n",
    "    preds = model(inputs)\n",
    "\n",
    "    loss = criterion(preds, labels)\n",
    "    loss.backward()\n",
    "    \n",
    "    optimizer.step()\n",
    "\n",
    "    total_loss += loss.item()\n",
    "    # 리스트에 추가\n",
    "\n",
    "\n",
    "  print(f\"Epoch {epoch:3d} | Loss: {total_loss}\")\n",
    "  train_accs.append(accuracy(model, trainloader))\n",
    "  test_accs.append(accuracy(model, testloader))"
   ]
  },
  {
   "cell_type": "code",
   "execution_count": 15,
   "metadata": {},
   "outputs": [],
   "source": [
    "import numpy as np\n",
    "\n",
    "def plot_acc(train_accs, test_accs, label1='train', label2='test'):\n",
    "  x = np.arange(len(train_accs))\n",
    "\n",
    "  plt.plot(x, train_accs, label=label1)\n",
    "  plt.plot(x, test_accs, label=label2)\n",
    "  plt.legend()\n",
    "  plt.show()"
   ]
  },
  {
   "cell_type": "code",
   "execution_count": null,
   "metadata": {},
   "outputs": [
    {
     "data": {
      "image/png": "[encoded data removed]",
      "text/plain": [
       "<Figure size 640x480 with 1 Axes>"
      ]
     },
     "metadata": {},
     "output_type": "display_data"
    },
    {
     "ename": "",
     "evalue": "",
     "output_type": "error",
     "traceback": [
      "\u001b[1;31m현재 셀 또는 이전 셀에서 코드를 실행하는 동안 Kernel이 충돌했습니다. \n",
      "\u001b[1;31m셀의 코드를 검토하여 가능한 오류 원인을 식별하세요. \n",
      "\u001b[1;31m자세한 내용을 보려면 <a href='https://aka.ms/vscodeJupyterKernelCrash'>여기</a>를 클릭하세요. \n",
      "\u001b[1;31m자세한 내용은 Jupyter <a href='command:jupyter.viewOutput'>로그</a>를 참조하세요."
     ]
    }
   ],
   "source": [
    "plot_acc(train_accs , test_accs)"
   ]
  }
 ],
 "metadata": {
  "accelerator": "GPU",
  "colab": {
   "authorship_tag": "ABX9TyOz7vBAsZ4WYLph4xp9q2ee",
   "gpuType": "T4",
   "provenance": []
  },
  "kernelspec": {
   "display_name": "ai",
   "language": "python",
   "name": "python3"
  },
  "language_info": {
   "codemirror_mode": {
    "name": "ipython",
    "version": 3
   },
   "file_extension": ".py",
   "mimetype": "text/x-python",
   "name": "python",
   "nbconvert_exporter": "python",
   "pygments_lexer": "ipython3",
   "version": "3.11.11"
  }
 },
 "nbformat": 4,
 "nbformat_minor": 0
}

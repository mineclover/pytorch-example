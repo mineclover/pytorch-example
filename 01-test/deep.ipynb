{
 "cells": [
  {
   "cell_type": "markdown",
   "metadata": {
    "id": "OPJenlrhihrh"
   },
   "source": []
  },
  {
   "cell_type": "code",
   "execution_count": 1,
   "metadata": {
    "executionInfo": {
     "elapsed": 6315,
     "status": "ok",
     "timestamp": 1724212693193,
     "user": {
      "displayName": "조승혁",
      "userId": "15759752471844115325"
     },
     "user_tz": -540
    },
    "id": "6lXVfXoDtoQh"
   },
   "outputs": [],
   "source": [
    "import os\n",
    "os.environ['KMP_DUPLICATE_LIB_OK']='TRUE'\n",
    "os.environ['CUDA_LAUNCH_BLOCKING']='1'\n",
    "import torch\n",
    "# GPU 사용 가능하면 cuda, 아니면 cpu\n",
    "import torchvision\n",
    "import torchvision.transforms as transforms\n",
    "from torch import Tensor\n",
    "from typing import List, Tuple, Dict, Any, Union\n",
    "\n",
    "\n",
    "device = torch.device(\"cuda\" if torch.cuda.is_available() else \"cpu\")\n",
    "# torch.cuda.empty_cache()"
   ]
  },
  {
   "cell_type": "code",
   "execution_count": 2,
   "metadata": {},
   "outputs": [],
   "source": [
    "import numpy as np\n",
    "import matplotlib.pyplot as plt\n",
    "\n",
    "\n",
    "def accuracy(model, dataloader):\n",
    "  cnt = 0\n",
    "  acc = 0\n",
    "\n",
    "  for data in dataloader:\n",
    "    inputs, labels = data\n",
    "    inputs, labels = inputs.to(device), labels.to(device)\n",
    "\n",
    "    preds = model(inputs)\n",
    "    preds = torch.argmax(preds, dim=-1)\n",
    "\n",
    "    cnt += labels.shape[0]\n",
    "    acc += (labels == preds).sum().item()\n",
    "\n",
    "  return acc / cnt\n",
    "\n",
    "\n",
    "def plot_acc(train_accs, test_accs, label1='train', label2='test'):\n",
    "  x = np.arange(len(train_accs))\n",
    "\n",
    "  plt.plot(x, train_accs, label=label1)\n",
    "  plt.plot(x, test_accs, label=label2)\n",
    "  plt.legend()\n",
    "  plt.show()"
   ]
  },
  {
   "cell_type": "code",
   "execution_count": 3,
   "metadata": {
    "colab": {
     "base_uri": "https://localhost:8080/"
    },
    "executionInfo": {
     "elapsed": 22007,
     "status": "ok",
     "timestamp": 1724212718261,
     "user": {
      "displayName": "조승혁",
      "userId": "15759752471844115325"
     },
     "user_tz": -540
    },
    "id": "KAYlqPaRt6ti",
    "outputId": "67e51d96-85b4-4129-efc8-7938006afdd4"
   },
   "outputs": [],
   "source": [
    "transform = transforms.ToTensor()\n",
    "\n",
    "batch_size = 256\n",
    "\n",
    "\n",
    "trainset = torchvision.datasets.CIFAR10(\n",
    "    root='./data',\n",
    "    train=True,\n",
    "    download=True,\n",
    "    transform=transform\n",
    ")\n",
    "trainloader = torch.utils.data.DataLoader(\n",
    "    trainset,\n",
    "    batch_size=batch_size,\n",
    "    shuffle=True\n",
    ")\n",
    "\n",
    "testset = torchvision.datasets.CIFAR10(\n",
    "    root='./data',\n",
    "    train=False,\n",
    "    download=True,\n",
    "    transform=transform\n",
    ")\n",
    "\n",
    "testloader = torch.utils.data.DataLoader(\n",
    "    testset,\n",
    "    batch_size=batch_size,\n",
    "    shuffle=False\n",
    ")"
   ]
  },
  {
   "cell_type": "code",
   "execution_count": 4,
   "metadata": {
    "colab": {
     "base_uri": "https://localhost:8080/",
     "height": 481
    },
    "executionInfo": {
     "elapsed": 601,
     "status": "ok",
     "timestamp": 1724212727291,
     "user": {
      "displayName": "조승혁",
      "userId": "15759752471844115325"
     },
     "user_tz": -540
    },
    "id": "Zsp3sHmojyhT",
    "outputId": "3511bb75-e677-4fb8-894b-69e22c80f4bc"
   },
   "outputs": [
    {
     "name": "stdout",
     "output_type": "stream",
     "text": [
      "50000\n",
      "torch.Size([3, 32, 32]) 6\n"
     ]
    },
    {
     "data": {
      "text/plain": [
       "<matplotlib.image.AxesImage at 0x1c38d9b6e50>"
      ]
     },
     "execution_count": 4,
     "metadata": {},
     "output_type": "execute_result"
    },
    {
     "data": {
      "image/png": "[encoded data removed]",
      "text/plain": [
       "<Figure size 640x480 with 1 Axes>"
      ]
     },
     "metadata": {},
     "output_type": "display_data"
    }
   ],
   "source": [
    "from matplotlib import pyplot as plt\n",
    "\n",
    "\n",
    "print(len(trainset))\n",
    "print(trainset[0][0].shape, trainset[0][1])\n",
    "plt.imshow(trainset[0][0][0], cmap='gray')"
   ]
  },
  {
   "cell_type": "markdown",
   "metadata": {},
   "source": [
    "# NOTE\n",
    "\n",
    "데이터 셋 구성\n",
    "\n",
    "trainset[테스트 데이터 갯수][데이터와 정답, 튜플]\n",
    "0 : 데이터 텐서\n",
    "1 : 정답 값\n"
   ]
  },
  {
   "cell_type": "code",
   "execution_count": 5,
   "metadata": {},
   "outputs": [
    {
     "name": "stdout",
     "output_type": "stream",
     "text": [
      "<class 'tuple'>\n",
      "2\n",
      "<class 'torch.Tensor'>\n",
      "<class 'int'>\n"
     ]
    }
   ],
   "source": [
    "\n",
    "print( type(trainset[0]))\n",
    "print(len(trainset[0]))\n",
    "print( type(trainset[0][0]))\n",
    "print( type(trainset[0][1]))\n"
   ]
  },
  {
   "cell_type": "code",
   "execution_count": 6,
   "metadata": {
    "colab": {
     "base_uri": "https://localhost:8080/"
    },
    "executionInfo": {
     "elapsed": 33,
     "status": "ok",
     "timestamp": 1723366306519,
     "user": {
      "displayName": "조승혁",
      "userId": "15759752471844115325"
     },
     "user_tz": -540
    },
    "id": "_Hd7XxyAvVNz",
    "outputId": "185acb61-2ed7-4110-b325-c0e016ca60b0"
   },
   "outputs": [
    {
     "name": "stdout",
     "output_type": "stream",
     "text": [
      "torch.Size([256, 3, 32, 32]) torch.Size([256])\n"
     ]
    }
   ],
   "source": [
    "dataiter = iter(trainloader)\n",
    "images, labels = next(dataiter)\n",
    "print(images.shape, labels.shape)"
   ]
  },
  {
   "cell_type": "code",
   "execution_count": 7,
   "metadata": {
    "id": "OLOA-ZGTuVVG"
   },
   "outputs": [],
   "source": [
    "from torch import nn\n",
    "\n",
    "\n",
    "class ModelLeakyReLU(nn.Module):\n",
    "  def __init__(self, input_dim, n_dim):\n",
    "    super().__init__()\n",
    "\n",
    "    self.layer1 = nn.Linear(input_dim, n_dim)\n",
    "    self.layer2 = nn.Linear(n_dim, n_dim)\n",
    "    self.layer3 = nn.Linear(n_dim, 10)\n",
    "\n",
    "    self.act = nn.LeakyReLU()\n",
    "\n",
    "  def forward(self, x):\n",
    "    x = torch.flatten(x, start_dim=1)\n",
    "    x = self.act(self.layer1(x))\n",
    "    x = self.act(self.layer2(x))\n",
    "    x = self.act(self.layer3(x))\n",
    "\n",
    "    return x\n",
    "\n",
    "\n",
    "model = ModelLeakyReLU(32 * 32 * 3, 1024)"
   ]
  },
  {
   "cell_type": "markdown",
   "metadata": {
    "id": "5PooeOKMnRfZ"
   },
   "source": [
    "이전 코드와 거의 똑같습니다. 다른 점은 `model.to(device)` 코드를 통해 우리가 구현한 model을 GPU로 옮긴 것입니다.\n",
    "MNIST 부터는 모델과 data가 커지면서 훨씬 많은 행렬 연산이 이루어지기 때문에 GPU를 활용하는 것이 빠릅니다.\n",
    "\n",
    "다음은 model을 MNIST에 학습하는 코드입니다."
   ]
  },
  {
   "cell_type": "code",
   "execution_count": 8,
   "metadata": {
    "colab": {
     "base_uri": "https://localhost:8080/"
    },
    "executionInfo": {
     "elapsed": 786155,
     "status": "ok",
     "timestamp": 1723367093025,
     "user": {
      "displayName": "조승혁",
      "userId": "15759752471844115325"
     },
     "user_tz": -540
    },
    "id": "TryX1hewvNiB",
    "outputId": "4e4a9282-d49a-40ff-c26c-d00fb7c0af79"
   },
   "outputs": [
    {
     "name": "stdout",
     "output_type": "stream",
     "text": [
      "Epoch   1 | Loss: 450.4249405860901\n",
      "Epoch   2 | Loss: 449.3063621520996\n",
      "Epoch   3 | Loss: 448.3013608455658\n",
      "Epoch   4 | Loss: 447.3678069114685\n",
      "Epoch   5 | Loss: 446.46728467941284\n",
      "Epoch   6 | Loss: 445.57595014572144\n",
      "Epoch   7 | Loss: 444.65782833099365\n",
      "Epoch   8 | Loss: 443.548725605011\n",
      "Epoch   9 | Loss: 442.0822205543518\n",
      "Epoch  10 | Loss: 440.57605147361755\n",
      "Epoch  11 | Loss: 439.1242091655731\n",
      "Epoch  12 | Loss: 437.6126925945282\n",
      "Epoch  13 | Loss: 436.10576367378235\n",
      "Epoch  14 | Loss: 434.60940504074097\n",
      "Epoch  15 | Loss: 433.12213158607483\n",
      "Epoch  16 | Loss: 431.6175391674042\n",
      "Epoch  17 | Loss: 430.20564794540405\n",
      "Epoch  18 | Loss: 428.777046918869\n",
      "Epoch  19 | Loss: 427.4886305332184\n",
      "Epoch  20 | Loss: 426.1746199131012\n",
      "Epoch  21 | Loss: 424.98116183280945\n",
      "Epoch  22 | Loss: 423.79905557632446\n",
      "Epoch  23 | Loss: 422.68504571914673\n",
      "Epoch  24 | Loss: 421.6321156024933\n",
      "Epoch  25 | Loss: 420.614284992218\n",
      "Epoch  26 | Loss: 419.6925721168518\n",
      "Epoch  27 | Loss: 418.7558591365814\n",
      "Epoch  28 | Loss: 417.86725306510925\n",
      "Epoch  29 | Loss: 417.05160546302795\n",
      "Epoch  30 | Loss: 416.3223190307617\n",
      "Epoch  31 | Loss: 415.5524809360504\n",
      "Epoch  32 | Loss: 414.1361474990845\n",
      "Epoch  33 | Loss: 412.1982762813568\n",
      "Epoch  34 | Loss: 410.96699953079224\n",
      "Epoch  35 | Loss: 409.92232966423035\n",
      "Epoch  36 | Loss: 408.8250297307968\n",
      "Epoch  37 | Loss: 407.90161514282227\n",
      "Epoch  38 | Loss: 406.8986130952835\n",
      "Epoch  39 | Loss: 406.14455461502075\n",
      "Epoch  40 | Loss: 405.31627130508423\n",
      "Epoch  41 | Loss: 404.54587709903717\n",
      "Epoch  42 | Loss: 403.6885621547699\n",
      "Epoch  43 | Loss: 403.0342959165573\n",
      "Epoch  44 | Loss: 402.2956134080887\n",
      "Epoch  45 | Loss: 401.4725606441498\n",
      "Epoch  46 | Loss: 399.1717936992645\n",
      "Epoch  47 | Loss: 397.3843597173691\n",
      "Epoch  48 | Loss: 396.4208859205246\n",
      "Epoch  49 | Loss: 395.54808044433594\n",
      "Epoch  50 | Loss: 394.6729031801224\n"
     ]
    }
   ],
   "source": [
    "# SGD\n",
    "from torch.optim import SGD, Adam\n",
    "\n",
    "lr = 0.001\n",
    "\n",
    "model = ModelLeakyReLU(32 * 32 * 3, 1024)\n",
    "model = model.to(device)\n",
    "\n",
    "optimizer = SGD(model.parameters(), lr=lr)\n",
    "\n",
    "n_epochs = 50\n",
    "loss_fn = nn.CrossEntropyLoss()\n",
    "\n",
    "train_sgd = []\n",
    "\n",
    "for epoch in range(n_epochs):\n",
    "\n",
    "  total_loss = 0.\n",
    "  model.train()\n",
    "  for data in trainloader:\n",
    "    model.zero_grad()\n",
    "    inputs, labels = data\n",
    "    inputs, labels = inputs.to(device), labels.to(device)\n",
    "\n",
    "    preds = model(inputs)\n",
    "    loss = loss_fn(preds, labels)\n",
    "    loss.backward()\n",
    "    optimizer.step()\n",
    "\n",
    "    total_loss += loss.item()\n",
    "\n",
    "  with torch.no_grad():\n",
    "    model.eval()  \n",
    "    train_sgd.append(accuracy(model, trainloader))\n",
    "\n",
    "  print(f\"Epoch {epoch + 1:3d} | Loss: {total_loss}\")"
   ]
  },
  {
   "cell_type": "markdown",
   "metadata": {},
   "source": [
    "## NOTE\n",
    "model 은 클래스에서 인스턴스 뽑는거라 복제 됨"
   ]
  },
  {
   "cell_type": "code",
   "execution_count": 9,
   "metadata": {},
   "outputs": [
    {
     "name": "stdout",
     "output_type": "stream",
     "text": [
      "Epoch   1 | Loss: 415.6693003177643\n",
      "Epoch   2 | Loss: 371.09285151958466\n",
      "Epoch   3 | Loss: 348.8336296081543\n",
      "Epoch   4 | Loss: 336.85473477840424\n",
      "Epoch   5 | Loss: 324.1707618236542\n",
      "Epoch   6 | Loss: 315.07275223731995\n",
      "Epoch   7 | Loss: 307.75237596035004\n",
      "Epoch   8 | Loss: 300.7871310710907\n",
      "Epoch   9 | Loss: 295.0191992521286\n",
      "Epoch  10 | Loss: 292.1619859933853\n",
      "Epoch  11 | Loss: 284.8307116031647\n",
      "Epoch  12 | Loss: 278.6325651407242\n",
      "Epoch  13 | Loss: 274.2930089235306\n",
      "Epoch  14 | Loss: 270.6302615404129\n",
      "Epoch  15 | Loss: 264.93873608112335\n",
      "Epoch  16 | Loss: 260.5960637331009\n",
      "Epoch  17 | Loss: 257.85093557834625\n",
      "Epoch  18 | Loss: 254.51910197734833\n",
      "Epoch  19 | Loss: 247.88422334194183\n",
      "Epoch  20 | Loss: 246.10748517513275\n",
      "Epoch  21 | Loss: 240.7582732439041\n",
      "Epoch  22 | Loss: 240.5383838415146\n",
      "Epoch  23 | Loss: 236.04708230495453\n",
      "Epoch  24 | Loss: 230.31506723165512\n",
      "Epoch  25 | Loss: 229.11325979232788\n",
      "Epoch  26 | Loss: 224.82827734947205\n",
      "Epoch  27 | Loss: 220.9904459118843\n",
      "Epoch  28 | Loss: 217.53689855337143\n",
      "Epoch  29 | Loss: 216.54872488975525\n",
      "Epoch  30 | Loss: 211.30271703004837\n",
      "Epoch  31 | Loss: 207.27644276618958\n",
      "Epoch  32 | Loss: 203.4832687973976\n",
      "Epoch  33 | Loss: 202.20275396108627\n",
      "Epoch  34 | Loss: 203.58498239517212\n",
      "Epoch  35 | Loss: 194.86313211917877\n",
      "Epoch  36 | Loss: 194.01559007167816\n",
      "Epoch  37 | Loss: 186.86491918563843\n",
      "Epoch  38 | Loss: 183.79063457250595\n",
      "Epoch  39 | Loss: 181.5849587917328\n",
      "Epoch  40 | Loss: 181.69753408432007\n",
      "Epoch  41 | Loss: 174.33258092403412\n",
      "Epoch  42 | Loss: 175.39676201343536\n",
      "Epoch  43 | Loss: 167.19646733999252\n",
      "Epoch  44 | Loss: 163.75148218870163\n",
      "Epoch  45 | Loss: 165.8788715004921\n",
      "Epoch  46 | Loss: 159.38079118728638\n",
      "Epoch  47 | Loss: 152.60225546360016\n",
      "Epoch  48 | Loss: 149.69714921712875\n",
      "Epoch  49 | Loss: 158.4842711687088\n",
      "Epoch  50 | Loss: 143.213949739933\n"
     ]
    }
   ],
   "source": [
    "# Adam + LeakyReLU\n",
    "model = ModelLeakyReLU(32 * 32 * 3, 1024)\n",
    "model = model.to(device)\n",
    "\n",
    "optimizer = Adam(model.parameters(), lr=lr)\n",
    "\n",
    "train_adam = []\n",
    "test_adam = []\n",
    "\n",
    "for epoch in range(n_epochs):\n",
    "  total_loss = 0.\n",
    "  model.train()\n",
    "  for data in trainloader:\n",
    "    model.zero_grad()\n",
    "    inputs, labels = data\n",
    "    inputs, labels = inputs.to(device), labels.to(device)\n",
    "\n",
    "    preds = model(inputs)\n",
    "    loss = loss_fn(preds, labels)\n",
    "    loss.backward()\n",
    "    optimizer.step()\n",
    "\n",
    "    total_loss += loss.item()\n",
    "\n",
    "  with torch.no_grad():\n",
    "    model.eval()\n",
    "    train_adam.append(accuracy(model, trainloader))\n",
    "    test_adam.append(accuracy(model, testloader))\n",
    "\n",
    "  print(f\"Epoch {epoch + 1:3d} | Loss: {total_loss}\")"
   ]
  },
  {
   "cell_type": "code",
   "execution_count": 10,
   "metadata": {},
   "outputs": [],
   "source": [
    "class ModelSigmoid(nn.Module):\n",
    "  def __init__(self, input_dim, n_dim):\n",
    "    super().__init__()\n",
    "\n",
    "    self.layer1 = nn.Linear(input_dim, n_dim)\n",
    "    self.layer2 = nn.Linear(n_dim, n_dim)\n",
    "    self.layer3 = nn.Linear(n_dim, 10)\n",
    "\n",
    "    self.act = nn.Sigmoid()\n",
    "\n",
    "  def forward(self, x):\n",
    "    x = torch.flatten(x, start_dim=1)\n",
    "    x = self.act(self.layer1(x))\n",
    "    x = self.act(self.layer2(x))\n",
    "    x = self.act(self.layer3(x))\n",
    "\n",
    "    return x\n",
    "\n",
    "\n",
    "model = ModelSigmoid(32 * 32 * 3, 1024)"
   ]
  },
  {
   "cell_type": "code",
   "execution_count": 11,
   "metadata": {},
   "outputs": [
    {
     "name": "stdout",
     "output_type": "stream",
     "text": [
      "Epoch   1 | Loss: 411.71236312389374\n",
      "Epoch   2 | Loss: 393.55797290802\n",
      "Epoch   3 | Loss: 386.9949072599411\n",
      "Epoch   4 | Loss: 384.0424197912216\n",
      "Epoch   5 | Loss: 381.05338966846466\n",
      "Epoch   6 | Loss: 379.4761588573456\n",
      "Epoch   7 | Loss: 377.5810569524765\n",
      "Epoch   8 | Loss: 376.103218793869\n",
      "Epoch   9 | Loss: 374.02076160907745\n",
      "Epoch  10 | Loss: 373.7193512916565\n",
      "Epoch  11 | Loss: 372.06014490127563\n",
      "Epoch  12 | Loss: 371.0751521587372\n",
      "Epoch  13 | Loss: 369.9844696521759\n",
      "Epoch  14 | Loss: 369.4358901977539\n",
      "Epoch  15 | Loss: 368.8489656448364\n",
      "Epoch  16 | Loss: 367.38879108428955\n",
      "Epoch  17 | Loss: 366.5762234926224\n",
      "Epoch  18 | Loss: 366.3661266565323\n",
      "Epoch  19 | Loss: 365.56380093097687\n",
      "Epoch  20 | Loss: 364.02939903736115\n",
      "Epoch  21 | Loss: 364.41707372665405\n",
      "Epoch  22 | Loss: 363.18487083911896\n",
      "Epoch  23 | Loss: 362.69839572906494\n",
      "Epoch  24 | Loss: 362.8451199531555\n",
      "Epoch  25 | Loss: 361.63484942913055\n",
      "Epoch  26 | Loss: 361.1821736097336\n",
      "Epoch  27 | Loss: 361.6447001695633\n",
      "Epoch  28 | Loss: 359.48658537864685\n",
      "Epoch  29 | Loss: 359.63303101062775\n",
      "Epoch  30 | Loss: 359.78850841522217\n",
      "Epoch  31 | Loss: 359.2973711490631\n",
      "Epoch  32 | Loss: 357.43948101997375\n",
      "Epoch  33 | Loss: 357.42700135707855\n",
      "Epoch  34 | Loss: 357.494668841362\n",
      "Epoch  35 | Loss: 356.5492625236511\n",
      "Epoch  36 | Loss: 356.4175856113434\n",
      "Epoch  37 | Loss: 355.7147113084793\n",
      "Epoch  38 | Loss: 356.0816617012024\n",
      "Epoch  39 | Loss: 355.6418149471283\n",
      "Epoch  40 | Loss: 354.1635922193527\n",
      "Epoch  41 | Loss: 354.09582924842834\n",
      "Epoch  42 | Loss: 354.3454291820526\n",
      "Epoch  43 | Loss: 354.21246659755707\n",
      "Epoch  44 | Loss: 353.1762316226959\n",
      "Epoch  45 | Loss: 352.6368440389633\n",
      "Epoch  46 | Loss: 352.8268804550171\n",
      "Epoch  47 | Loss: 352.0172598361969\n",
      "Epoch  48 | Loss: 352.5024826526642\n",
      "Epoch  49 | Loss: 350.9496624469757\n",
      "Epoch  50 | Loss: 350.8604028224945\n"
     ]
    }
   ],
   "source": [
    "# Adam + Sigmoid\n",
    "\n",
    "\n",
    "model = ModelSigmoid(32 * 32 * 3, 1024)\n",
    "model = model.to(device)\n",
    "\n",
    "optimizer = Adam(model.parameters(), lr=lr)\n",
    "\n",
    "train_sigmoid = []\n",
    "\n",
    "for epoch in range(n_epochs):\n",
    "  total_loss = 0.\n",
    "  model.train()\n",
    "  for data in trainloader:\n",
    "    model.zero_grad()\n",
    "    inputs, labels = data\n",
    "    inputs, labels = inputs.to(device), labels.to(device)\n",
    "\n",
    "    preds = model(inputs)\n",
    "    loss = loss_fn(preds, labels)\n",
    "    loss.backward()\n",
    "    optimizer.step()\n",
    "\n",
    "    total_loss += loss.item()\n",
    "\n",
    "  with torch.no_grad():\n",
    "    model.eval()\n",
    "    train_sigmoid.append(accuracy(model, trainloader))\n",
    "\n",
    "  print(f\"Epoch {epoch + 1:3d} | Loss: {total_loss}\")"
   ]
  },
  {
   "cell_type": "code",
   "execution_count": 12,
   "metadata": {},
   "outputs": [
    {
     "name": "stdout",
     "output_type": "stream",
     "text": [
      "Epoch   1 | Loss: 409.46270966529846\n",
      "Epoch   2 | Loss: 393.63019239902496\n",
      "Epoch   3 | Loss: 387.1171554327011\n",
      "Epoch   4 | Loss: 383.83059799671173\n",
      "Epoch   5 | Loss: 381.46587455272675\n",
      "Epoch   6 | Loss: 379.2100006341934\n",
      "Epoch   7 | Loss: 377.0827649831772\n",
      "Epoch   8 | Loss: 375.76769256591797\n",
      "Epoch   9 | Loss: 374.4591281414032\n",
      "Epoch  10 | Loss: 372.96231603622437\n",
      "Epoch  11 | Loss: 371.55102920532227\n",
      "Epoch  12 | Loss: 370.48122107982635\n",
      "Epoch  13 | Loss: 369.875271320343\n",
      "Epoch  14 | Loss: 369.1871279478073\n",
      "Epoch  15 | Loss: 368.0332554578781\n",
      "Epoch  16 | Loss: 367.8947502374649\n",
      "Epoch  17 | Loss: 366.3475466966629\n",
      "Epoch  18 | Loss: 365.60246109962463\n",
      "Epoch  19 | Loss: 365.0958515405655\n",
      "Epoch  20 | Loss: 364.3758444786072\n",
      "Epoch  21 | Loss: 364.3989226818085\n",
      "Epoch  22 | Loss: 363.2796891927719\n",
      "Epoch  23 | Loss: 362.60181403160095\n",
      "Epoch  24 | Loss: 362.1419087648392\n",
      "Epoch  25 | Loss: 361.52355682849884\n",
      "Epoch  26 | Loss: 361.5070685148239\n",
      "Epoch  27 | Loss: 360.38194668293\n",
      "Epoch  28 | Loss: 360.084792971611\n",
      "Epoch  29 | Loss: 359.2390636205673\n",
      "Epoch  30 | Loss: 359.431010723114\n",
      "Epoch  31 | Loss: 358.4364596605301\n",
      "Epoch  32 | Loss: 357.27367889881134\n",
      "Epoch  33 | Loss: 357.7756198644638\n",
      "Epoch  34 | Loss: 356.9218772649765\n",
      "Epoch  35 | Loss: 356.8167005777359\n",
      "Epoch  36 | Loss: 356.1999578475952\n",
      "Epoch  37 | Loss: 356.059522151947\n",
      "Epoch  38 | Loss: 355.8229001760483\n",
      "Epoch  39 | Loss: 355.766872048378\n",
      "Epoch  40 | Loss: 354.9698928594589\n",
      "Epoch  41 | Loss: 354.8089802265167\n",
      "Epoch  42 | Loss: 353.7872918844223\n",
      "Epoch  43 | Loss: 354.188027381897\n",
      "Epoch  44 | Loss: 353.4379597902298\n",
      "Epoch  45 | Loss: 352.5748783349991\n",
      "Epoch  46 | Loss: 352.5974351167679\n",
      "Epoch  47 | Loss: 352.230952501297\n",
      "Epoch  48 | Loss: 352.25752329826355\n",
      "Epoch  49 | Loss: 351.550341129303\n",
      "Epoch  50 | Loss: 351.18234848976135\n"
     ]
    }
   ],
   "source": [
    "# Adam\n",
    "model = ModelSigmoid(32 * 32 * 3, 1024)\n",
    "model = model.to(device)\n",
    "\n",
    "optimizer = Adam(model.parameters(), lr=lr)\n",
    "\n",
    "train_adam = []\n",
    "test_adam = []\n",
    "\n",
    "for epoch in range(n_epochs):\n",
    "  total_loss = 0.\n",
    "  model.train()\n",
    "  for data in trainloader:\n",
    "    model.zero_grad()\n",
    "    inputs, labels = data\n",
    "    inputs, labels = inputs.to(device), labels.to(device)\n",
    "\n",
    "    preds = model(inputs)\n",
    "    loss = loss_fn(preds, labels)\n",
    "    loss.backward()\n",
    "    optimizer.step()\n",
    "\n",
    "    total_loss += loss.item()\n",
    "\n",
    "  with torch.no_grad():\n",
    "    model.eval()\n",
    "    train_adam.append(accuracy(model, trainloader))\n",
    "    test_adam.append(accuracy(model, testloader))\n",
    "\n",
    "  print(f\"Epoch {epoch + 1:3d} | Loss: {total_loss}\")"
   ]
  },
  {
   "cell_type": "code",
   "execution_count": 13,
   "metadata": {},
   "outputs": [
    {
     "data": {
      "image/png": "[encoded data removed]",
      "text/plain": [
       "<Figure size 640x480 with 1 Axes>"
      ]
     },
     "metadata": {},
     "output_type": "display_data"
    }
   ],
   "source": [
    "plot_acc(train_adam, train_sigmoid, 'relu', 'sigmoid')"
   ]
  },
  {
   "cell_type": "markdown",
   "metadata": {},
   "source": [
    "# Dropout"
   ]
  },
  {
   "cell_type": "code",
   "execution_count": 14,
   "metadata": {},
   "outputs": [],
   "source": [
    "# Dropout LeakyReLU\n",
    "\n",
    "class Model3(nn.Module):\n",
    "  def __init__(self, input_dim, n_dim):\n",
    "    super().__init__()\n",
    "\n",
    "    self.layer1 = nn.Linear(input_dim, n_dim)\n",
    "    self.layer2 = nn.Linear(n_dim, n_dim)\n",
    "    self.layer3 = nn.Linear(n_dim, 10)\n",
    "\n",
    "    self.act = nn.LeakyReLU()\n",
    "    self.dropout = nn.Dropout(p=0.1)\n",
    "\n",
    "  def forward(self, x):\n",
    "    x = torch.flatten(x, start_dim=1)\n",
    "    x = self.dropout(self.act(self.layer1(x)))\n",
    "    x = self.dropout(self.act(self.layer2(x)))\n",
    "    x = self.dropout(self.act(self.layer3(x)))\n",
    "\n",
    "    return x"
   ]
  },
  {
   "cell_type": "code",
   "execution_count": 15,
   "metadata": {},
   "outputs": [
    {
     "name": "stdout",
     "output_type": "stream",
     "text": [
      "Epoch   1 | Loss: 438.1286084651947\n",
      "Epoch   2 | Loss: 417.3353958129883\n",
      "Epoch   3 | Loss: 411.9347925186157\n",
      "Epoch   4 | Loss: 402.05475652217865\n",
      "Epoch   5 | Loss: 392.64576745033264\n",
      "Epoch   6 | Loss: 385.5671052932739\n",
      "Epoch   7 | Loss: 382.0958527326584\n",
      "Epoch   8 | Loss: 376.32229220867157\n",
      "Epoch   9 | Loss: 373.72312450408936\n",
      "Epoch  10 | Loss: 368.71341264247894\n",
      "Epoch  11 | Loss: 367.6802315711975\n",
      "Epoch  12 | Loss: 363.123237490654\n",
      "Epoch  13 | Loss: 362.3617705106735\n",
      "Epoch  14 | Loss: 358.75173008441925\n",
      "Epoch  15 | Loss: 356.18896102905273\n",
      "Epoch  16 | Loss: 353.3992518186569\n",
      "Epoch  17 | Loss: 351.1372700929642\n",
      "Epoch  18 | Loss: 349.1782817840576\n",
      "Epoch  19 | Loss: 349.024329662323\n",
      "Epoch  20 | Loss: 348.1819534301758\n",
      "Epoch  21 | Loss: 344.0572077035904\n",
      "Epoch  22 | Loss: 341.4276577234268\n",
      "Epoch  23 | Loss: 340.5313113927841\n",
      "Epoch  24 | Loss: 338.2468774318695\n",
      "Epoch  25 | Loss: 336.87398195266724\n",
      "Epoch  26 | Loss: 335.38332653045654\n",
      "Epoch  27 | Loss: 334.3174548149109\n",
      "Epoch  28 | Loss: 333.9896080493927\n",
      "Epoch  29 | Loss: 331.165162563324\n",
      "Epoch  30 | Loss: 331.90275156497955\n",
      "Epoch  31 | Loss: 327.7767176628113\n",
      "Epoch  32 | Loss: 327.08070278167725\n",
      "Epoch  33 | Loss: 326.2281219959259\n",
      "Epoch  34 | Loss: 324.06721913814545\n",
      "Epoch  35 | Loss: 324.96046912670135\n",
      "Epoch  36 | Loss: 322.75982105731964\n",
      "Epoch  37 | Loss: 322.0308727025986\n",
      "Epoch  38 | Loss: 319.78939414024353\n",
      "Epoch  39 | Loss: 320.23716127872467\n",
      "Epoch  40 | Loss: 318.21462988853455\n",
      "Epoch  41 | Loss: 316.5668739080429\n",
      "Epoch  42 | Loss: 315.95483922958374\n",
      "Epoch  43 | Loss: 314.157776594162\n",
      "Epoch  44 | Loss: 313.6778289079666\n",
      "Epoch  45 | Loss: 312.4829041957855\n",
      "Epoch  46 | Loss: 310.8420776128769\n",
      "Epoch  47 | Loss: 312.2053482532501\n",
      "Epoch  48 | Loss: 310.14688992500305\n",
      "Epoch  49 | Loss: 308.7054492235184\n",
      "Epoch  50 | Loss: 307.9178898334503\n"
     ]
    }
   ],
   "source": [
    "model = Model3(32 * 32 * 3, 1024)\n",
    "model = model.to(device)\n",
    "\n",
    "optimizer = Adam(model.parameters(), lr=lr)\n",
    "\n",
    "train_dropout = []\n",
    "test_dropout = []\n",
    "\n",
    "for epoch in range(n_epochs):\n",
    "  total_loss = 0.\n",
    "  model.train() # 추가됨\n",
    "  for data in trainloader:\n",
    "    model.zero_grad()\n",
    "    inputs, labels = data\n",
    "    inputs, labels = inputs.to(device), labels.to(device)\n",
    "\n",
    "    preds = model(inputs)\n",
    "    loss = loss_fn(preds, labels)\n",
    "    loss.backward()\n",
    "    optimizer.step()\n",
    "\n",
    "    total_loss += loss.item()\n",
    "\n",
    "  with torch.no_grad():\n",
    "    model.eval()\n",
    "    train_dropout.append(accuracy(model, trainloader))\n",
    "    test_dropout.append(accuracy(model, testloader))\n",
    "\n",
    "  print(f\"Epoch {epoch + 1:3d} | Loss: {total_loss}\")"
   ]
  },
  {
   "cell_type": "code",
   "execution_count": 16,
   "metadata": {},
   "outputs": [
    {
     "data": {
      "image/png": "[encoded data removed]",
      "text/plain": [
       "<Figure size 640x480 with 1 Axes>"
      ]
     },
     "metadata": {},
     "output_type": "display_data"
    }
   ],
   "source": [
    "plot_acc(train_adam, test_adam)"
   ]
  },
  {
   "cell_type": "code",
   "execution_count": 17,
   "metadata": {},
   "outputs": [
    {
     "data": {
      "image/png": "[encoded data removed]",
      "text/plain": [
       "<Figure size 640x480 with 1 Axes>"
      ]
     },
     "metadata": {},
     "output_type": "display_data"
    },
    {
     "ename": "",
     "evalue": "",
     "output_type": "error",
     "traceback": [
      "\u001b[1;31m현재 셀 또는 이전 셀에서 코드를 실행하는 동안 Kernel이 충돌했습니다. \n",
      "\u001b[1;31m셀의 코드를 검토하여 가능한 오류 원인을 식별하세요. \n",
      "\u001b[1;31m자세한 내용을 보려면 <a href='https://aka.ms/vscodeJupyterKernelCrash'>여기</a>를 클릭하세요. \n",
      "\u001b[1;31m자세한 내용은 Jupyter <a href='command:jupyter.viewOutput'>로그</a>를 참조하세요."
     ]
    }
   ],
   "source": [
    "plot_acc(train_dropout, test_dropout)"
   ]
  }
 ],
 "metadata": {
  "accelerator": "GPU",
  "colab": {
   "authorship_tag": "ABX9TyOz7vBAsZ4WYLph4xp9q2ee",
   "gpuType": "T4",
   "provenance": []
  },
  "kernelspec": {
   "display_name": "ai",
   "language": "python",
   "name": "python3"
  },
  "language_info": {
   "codemirror_mode": {
    "name": "ipython",
    "version": 3
   },
   "file_extension": ".py",
   "mimetype": "text/x-python",
   "name": "python",
   "nbconvert_exporter": "python",
   "pygments_lexer": "ipython3",
   "version": "3.11.11"
  }
 },
 "nbformat": 4,
 "nbformat_minor": 0
}

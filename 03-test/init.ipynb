{
 "cells": [
  {
   "cell_type": "code",
   "execution_count": 1,
   "metadata": {},
   "outputs": [
    {
     "name": "stdout",
     "output_type": "stream",
     "text": [
      "Requirement already satisfied: tqdm in d:\\.conda\\envs\\ai2\\lib\\site-packages (4.67.1)\n",
      "Collecting boto3\n",
      "  Downloading boto3-1.37.31-py3-none-any.whl.metadata (6.7 kB)\n",
      "Requirement already satisfied: requests in d:\\.conda\\envs\\ai2\\lib\\site-packages (2.32.3)\n",
      "Requirement already satisfied: regex in d:\\.conda\\envs\\ai2\\lib\\site-packages (2024.11.6)\n",
      "Requirement already satisfied: sentencepiece in d:\\.conda\\envs\\ai2\\lib\\site-packages (0.2.0)\n",
      "Requirement already satisfied: sacremoses in d:\\.conda\\envs\\ai2\\lib\\site-packages (0.1.1)\n",
      "Requirement already satisfied: datasets in d:\\.conda\\envs\\ai2\\lib\\site-packages (3.5.0)\n",
      "Requirement already satisfied: colorama in d:\\.conda\\envs\\ai2\\lib\\site-packages (from tqdm) (0.4.6)\n",
      "Collecting botocore<1.38.0,>=1.37.31 (from boto3)\n",
      "  Downloading botocore-1.37.31-py3-none-any.whl.metadata (5.7 kB)\n",
      "Collecting jmespath<2.0.0,>=0.7.1 (from boto3)\n",
      "  Using cached jmespath-1.0.1-py3-none-any.whl.metadata (7.6 kB)\n",
      "Collecting s3transfer<0.12.0,>=0.11.0 (from boto3)\n",
      "  Downloading s3transfer-0.11.4-py3-none-any.whl.metadata (1.7 kB)\n",
      "Requirement already satisfied: charset-normalizer<4,>=2 in d:\\.conda\\envs\\ai2\\lib\\site-packages (from requests) (3.4.1)\n",
      "Requirement already satisfied: idna<4,>=2.5 in d:\\.conda\\envs\\ai2\\lib\\site-packages (from requests) (3.10)\n",
      "Requirement already satisfied: urllib3<3,>=1.21.1 in d:\\.conda\\envs\\ai2\\lib\\site-packages (from requests) (2.3.0)\n",
      "Requirement already satisfied: certifi>=2017.4.17 in d:\\.conda\\envs\\ai2\\lib\\site-packages (from requests) (2025.1.31)\n",
      "Requirement already satisfied: click in d:\\.conda\\envs\\ai2\\lib\\site-packages (from sacremoses) (8.1.8)\n",
      "Requirement already satisfied: joblib in d:\\.conda\\envs\\ai2\\lib\\site-packages (from sacremoses) (1.4.2)\n",
      "Requirement already satisfied: filelock in d:\\.conda\\envs\\ai2\\lib\\site-packages (from datasets) (3.13.1)\n",
      "Requirement already satisfied: numpy>=1.17 in d:\\.conda\\envs\\ai2\\lib\\site-packages (from datasets) (2.2.4)\n",
      "Requirement already satisfied: pyarrow>=15.0.0 in d:\\.conda\\envs\\ai2\\lib\\site-packages (from datasets) (19.0.1)\n",
      "Requirement already satisfied: dill<0.3.9,>=0.3.0 in d:\\.conda\\envs\\ai2\\lib\\site-packages (from datasets) (0.3.8)\n",
      "Requirement already satisfied: pandas in d:\\.conda\\envs\\ai2\\lib\\site-packages (from datasets) (2.2.3)\n",
      "Requirement already satisfied: xxhash in d:\\.conda\\envs\\ai2\\lib\\site-packages (from datasets) (3.5.0)\n",
      "Requirement already satisfied: multiprocess<0.70.17 in d:\\.conda\\envs\\ai2\\lib\\site-packages (from datasets) (0.70.16)\n",
      "Requirement already satisfied: fsspec<=2024.12.0,>=2023.1.0 in d:\\.conda\\envs\\ai2\\lib\\site-packages (from fsspec[http]<=2024.12.0,>=2023.1.0->datasets) (2024.6.1)\n",
      "Requirement already satisfied: aiohttp in d:\\.conda\\envs\\ai2\\lib\\site-packages (from datasets) (3.11.14)\n",
      "Requirement already satisfied: huggingface-hub>=0.24.0 in d:\\.conda\\envs\\ai2\\lib\\site-packages (from datasets) (0.30.1)\n",
      "Requirement already satisfied: packaging in d:\\.conda\\envs\\ai2\\lib\\site-packages (from datasets) (24.2)\n",
      "Requirement already satisfied: pyyaml>=5.1 in d:\\.conda\\envs\\ai2\\lib\\site-packages (from datasets) (6.0.2)\n",
      "Requirement already satisfied: python-dateutil<3.0.0,>=2.1 in d:\\.conda\\envs\\ai2\\lib\\site-packages (from botocore<1.38.0,>=1.37.31->boto3) (2.9.0.post0)\n",
      "Requirement already satisfied: aiohappyeyeballs>=2.3.0 in d:\\.conda\\envs\\ai2\\lib\\site-packages (from aiohttp->datasets) (2.6.1)\n",
      "Requirement already satisfied: aiosignal>=1.1.2 in d:\\.conda\\envs\\ai2\\lib\\site-packages (from aiohttp->datasets) (1.3.2)\n",
      "Requirement already satisfied: attrs>=17.3.0 in d:\\.conda\\envs\\ai2\\lib\\site-packages (from aiohttp->datasets) (25.3.0)\n",
      "Requirement already satisfied: frozenlist>=1.1.1 in d:\\.conda\\envs\\ai2\\lib\\site-packages (from aiohttp->datasets) (1.5.0)\n",
      "Requirement already satisfied: multidict<7.0,>=4.5 in d:\\.conda\\envs\\ai2\\lib\\site-packages (from aiohttp->datasets) (6.2.0)\n",
      "Requirement already satisfied: propcache>=0.2.0 in d:\\.conda\\envs\\ai2\\lib\\site-packages (from aiohttp->datasets) (0.3.1)\n",
      "Requirement already satisfied: yarl<2.0,>=1.17.0 in d:\\.conda\\envs\\ai2\\lib\\site-packages (from aiohttp->datasets) (1.18.3)\n",
      "Requirement already satisfied: typing-extensions>=3.7.4.3 in d:\\.conda\\envs\\ai2\\lib\\site-packages (from huggingface-hub>=0.24.0->datasets) (4.12.2)\n",
      "Requirement already satisfied: pytz>=2020.1 in d:\\.conda\\envs\\ai2\\lib\\site-packages (from pandas->datasets) (2024.1)\n",
      "Requirement already satisfied: tzdata>=2022.7 in d:\\.conda\\envs\\ai2\\lib\\site-packages (from pandas->datasets) (2023.3)\n",
      "Requirement already satisfied: six>=1.5 in d:\\.conda\\envs\\ai2\\lib\\site-packages (from python-dateutil<3.0.0,>=2.1->botocore<1.38.0,>=1.37.31->boto3) (1.17.0)\n",
      "Downloading boto3-1.37.31-py3-none-any.whl (139 kB)\n",
      "Downloading botocore-1.37.31-py3-none-any.whl (13.5 MB)\n",
      "   ---------------------------------------- 0.0/13.5 MB ? eta -:--:--\n",
      "   ------ --------------------------------- 2.1/13.5 MB 9.8 MB/s eta 0:00:02\n",
      "   ------------- -------------------------- 4.5/13.5 MB 10.8 MB/s eta 0:00:01\n",
      "   --------------------- ------------------ 7.1/13.5 MB 11.2 MB/s eta 0:00:01\n",
      "   -------------------------- ------------- 8.9/13.5 MB 10.7 MB/s eta 0:00:01\n",
      "   ---------------------------------- ----- 11.5/13.5 MB 10.8 MB/s eta 0:00:01\n",
      "   ---------------------------------------- 13.5/13.5 MB 10.4 MB/s eta 0:00:00\n",
      "Downloading jmespath-1.0.1-py3-none-any.whl (20 kB)\n",
      "Downloading s3transfer-0.11.4-py3-none-any.whl (84 kB)\n",
      "Installing collected packages: jmespath, botocore, s3transfer, boto3\n",
      "Successfully installed boto3-1.37.31 botocore-1.37.31 jmespath-1.0.1 s3transfer-0.11.4\n"
     ]
    }
   ],
   "source": [
    "!pip install tqdm boto3 requests regex sentencepiece sacremoses datasets"
   ]
  }
 ],
 "metadata": {
  "kernelspec": {
   "display_name": "ai2",
   "language": "python",
   "name": "python3"
  },
  "language_info": {
   "codemirror_mode": {
    "name": "ipython",
    "version": 3
   },
   "file_extension": ".py",
   "mimetype": "text/x-python",
   "name": "python",
   "nbconvert_exporter": "python",
   "pygments_lexer": "ipython3",
   "version": "3.11.11"
  }
 },
 "nbformat": 4,
 "nbformat_minor": 2
}

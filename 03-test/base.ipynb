{
  "cells": [
    {
      "cell_type": "markdown",
      "metadata": {
        "id": "sbgz49PvHhLt"
      },
      "source": [
        "### 과제 요구 사항들을 구현하고, epoch마다의 train loss와 최종 모델의 test accuracy가 print된 notebook을 public github repository에 업로드하여 공유해주시면 됩니다. 반드시 출력 결과가 남아있어야 합니다. \n",
        "\n",
        "- [x] AG_News dataset 준비\n",
        "\t- Huggingface dataset의 `fancyzhx/ag_news`를 load\n",
        "\t- `collate_fn` 함수에 다음 수정사항들을 반영\n",
        "    - Truncation과 관련된 부분들을 삭제\n",
        "- [x] Classifier output, loss function, accuracy function 변경\n",
        "\t- 뉴스 기사 분류 문제는 binary classification이 아닌 일반적인 classification 문제입니다. MNIST 과제에서 했던 것 처럼 `nn.CrossEntropyLoss` 를 추가하고 `TextClassifier`의 출력 차원을 잘 조정하여 task를 풀 수 있도록 수정\n",
        "\t- 그리고 정확도를 재는 `accuracy` 함수도 classification에 맞춰 수정\n",
        "- [x]  학습 결과 report\n",
        "    - DistilBERT 실습과 같이 매 epoch 마다의 train loss를 출력하고 최종 모델의 test accuracy를 report 첨부\n",
        "  \n",
        "- [x] 완료된 항목은 체크박스에 x 표시"
      ]
    },
    {
      "cell_type": "markdown",
      "metadata": {
        "id": "6YP3FxG9IF7O"
      },
      "source": [
        "그 후, 우리가 사용하는 DistilBERT pre-training 때 사용한 tokenizer를 불러옵니다."
      ]
    },
    {
      "cell_type": "code",
      "execution_count": 95,
      "metadata": {},
      "outputs": [],
      "source": [
        "import os\n",
        "os.environ['KMP_DUPLICATE_LIB_OK']='TRUE'\n",
        "os.environ['CUDA_LAUNCH_BLOCKING']='1'\n",
        "\n",
        "\n"
      ]
    },
    {
      "cell_type": "code",
      "execution_count": 96,
      "metadata": {
        "colab": {
          "base_uri": "https://localhost:8080/",
          "height": 308,
          "referenced_widgets": [
            "2733d8b46cf740038122c33ce3b34624",
            "0c86975074f549458f7866684794f75d",
            "ba44b4a0d3274795b8709a740926f7ce",
            "bd15d1af512b4fefaaf63c5fe345272f",
            "63f72ab3150e49cabe34a0c0c6acb06e",
            "54ff6651b8d4452cab79a78f35c76476",
            "e8442c7d752d46b087548ba5ecf18e94",
            "e6338e1407a1450dbbe0618584251008",
            "12086b6e9292461cbe9e5b7f117ae60f",
            "96e562c1b52f4580bd07e601c95b836f",
            "859e66d7069a4cbda2066af02a217aea",
            "f6690801945641528c251d4644b93dd2",
            "7cccf8c4adc54ff6a07944b8951d049a",
            "4fddf66e3b334ccab021c663342b8eb1",
            "3754441121dc4636a59ce43f505d479d",
            "990e92483b8844028f4673531f0d0ca7",
            "224731885aee40c6a9ea4e403bcd76ed",
            "eec52b72113644bcae16128375f1e791",
            "188c7bfcdd1d42baa922b4d6ce0e35ac",
            "83329c6c8dbe4cbf844bc8e8f6f73901",
            "e391cb9e68094ab282a19da6419fc30d",
            "4fd1ed8123d44bfa8583258037fbd438",
            "16e3b5ad591a4839bc44f8f57075a66e",
            "76d3584208f540ed9ddad8f37e1a7ca9",
            "bcbd69c9398e4fafa4f04fc98dd8c9e1",
            "fa83346546294e12b266f367d29fa013",
            "34ef0e04dbfb41da8040d6f3b519eca2",
            "9e1a25905b4a4a8d8e53b7ea66d955ba",
            "4831c6a0e5da462cbb4fd774eeaf6771",
            "6ce3258b7af54a8f99c1254f7c35a7c8",
            "7060a81d05f14184b1d4ad85f6d65f78",
            "3420966778e74887a31d81ee4beb17d1",
            "2a9866c086fb4fdc800797b311af946f",
            "a626029c14c347c7b4b7da5301cdb47f",
            "74f6a0d88274467ab7b1e3138e15b985",
            "269565d1ba7d4885bcb22886fd2e508c",
            "29dcb1bc83254bdcb199dbaabd3be4a7",
            "2df8261e958c4003b480878c56d950cc",
            "4718dc3fa804411a86c915bc03ac0860",
            "94f60b674c02473e9518d5c718bd5852",
            "fbf089c1ca394a0dba7a658a18a6f2e1",
            "05662f137d5b40ddb349e31aed80338f",
            "0f6ba2c15d564ffcaee51a34e98520da",
            "867ac01076db45028d8757497ed6741f"
          ]
        },
        "id": "6lGiZUoPby6e",
        "outputId": "986e32f2-206a-413b-c3fd-13d526491d8a"
      },
      "outputs": [
        {
          "name": "stderr",
          "output_type": "stream",
          "text": [
            "Using cache found in C:\\Users\\junu/.cache\\torch\\hub\\huggingface_pytorch-transformers_main\n"
          ]
        }
      ],
      "source": [
        "import torch\n",
        "from torch import Tensor\n",
        "from torch.optim import Adam\n",
        "from datasets import load_dataset\n",
        "from torch.utils.data import DataLoader\n",
        "from typing import List, Tuple, Dict, Any, Union\n",
        "\n",
        "# DistilBERT 모델용 tokenizer 로드 (pretrained)\n",
        "# 이 tokenizer는 문장을 토큰화해서 모델이 이해할 수 있는 input_ids로 변환해줌\n",
        "tokenizer = torch.hub.load('huggingface/pytorch-transformers', 'tokenizer', 'distilbert-base-uncased')"
      ]
    },
    {
      "cell_type": "markdown",
      "metadata": {
        "id": "Cvfl_uFLIMWO"
      },
      "source": ["fancyzhx/ag_news\n", "https://www.oxen.ai/fancyzhx/ag_news"]
    },
    {
      "cell_type": "code",
      "execution_count": 97,
      "metadata": {},
      "outputs": [
        {
          "name": "stdout",
          "output_type": "stream",
          "text": [
            "Dataset({\n",
            "    features: ['text', 'label'],\n",
            "    num_rows: 6000\n",
            "})\n",
            "{'text': \"Wall St. Bears Claw Back Into the Black (Reuters) Reuters - Short-sellers, Wall Street's dwindling\\\\band of ultra-cynics, are seeing green again.\", 'label': 2}\n",
            "ClassLabel(names=['World', 'Sports', 'Business', 'Sci/Tech'], id=None)\n"
          ]
        }
      ],
      "source": [
        "train_ds = load_dataset(\"fancyzhx/ag_news\", split=\"train[:5%]\")\n",
        "test_ds = load_dataset(\"fancyzhx/ag_news\", split=\"test[:5%]\")\n",
        "\n",
        "print(train_ds)\n",
        "print(train_ds[0])\n",
        "print(train_ds.features[\"label\"])"
      ]
    },
    {
      "cell_type": "code",
      "execution_count": 98,
      "metadata": {},
      "outputs": [],
      "source": ["names=['World', 'Sports', 'Business', 'Sci/Tech']"]
    },
    {
      "cell_type": "code",
      "execution_count": 99,
      "metadata": {},
      "outputs": [
        {
          "name": "stdout",
          "output_type": "stream",
          "text": [
            "배치 데이터 구조: dict_keys(['text', 'label'])\n",
            "\n",
            "배치 크기: 64\n",
            "\n",
            "첫 번째 샘플:\n",
            "텍스트: Baghdad Blast Kills Seven, Najaf Fighting Rages  BAGHDAD (Reuters) - A shell killed seven people in a busy  Baghdad street on Tuesday and U.S. forces fought pitched  battles with Shi'ite militia in the holy city of Najaf.\n",
            "레이블: 0\n",
            "\n",
            "원본 데이터셋 구조:\n",
            "- text\n",
            "- label\n",
            "\n",
            "원본 데이터셋의 첫 번째 row:\n",
            "{'text': \"Wall St. Bears Claw Back Into the Black (Reuters) Reuters - Short-sellers, Wall Street's dwindling\\\\band of ultra-cynics, are seeing green again.\", 'label': 2}\n"
          ]
        }
      ],
      "source": [
        "\n",
        "\n",
        "# Collate 함수 정의 (필요한 경우)\n",
        "def collate_fn(batch):\n",
        "    texts = [item['text'] for item in batch]\n",
        "    labels = [item['label'] for item in batch]\n",
        "    return {\n",
        "        'text': texts,\n",
        "        'label': torch.tensor(labels)\n",
        "    }\n",
        "\n",
        "# DataLoader 생성\n",
        "train_loader = DataLoader(\n",
        "    train_ds, \n",
        "    batch_size=64, \n",
        "    shuffle=True, \n",
        "    collate_fn=collate_fn\n",
        ")\n",
        "\n",
        "# 첫 번째 배치 가져오기\n",
        "first_batch = next(iter(train_loader))\n",
        "print(\"배치 데이터 구조:\", first_batch.keys())\n",
        "print(\"\\n배치 크기:\", len(first_batch['text']))\n",
        "\n",
        "# 첫 번째 배치에서 첫 번째 샘플 출력\n",
        "print(\"\\n첫 번째 샘플:\")\n",
        "print(\"텍스트:\", first_batch['text'][0])\n",
        "print(\"레이블:\", first_batch['label'][0].item())\n",
        "\n",
        "# 첫 번째 배치에서 데이터셋의 원본 구조 확인 (추가 필드가 있는지)\n",
        "print(\"\\n원본 데이터셋 구조:\")\n",
        "for key in train_ds[0].keys():\n",
        "    print(f\"- {key}\")\n",
        "\n",
        "# 원본 데이터셋에서 하나의 row 직접 출력\n",
        "print(\"\\n원본 데이터셋의 첫 번째 row:\")\n",
        "print(train_ds[0])"
      ]
    },
    {
      "cell_type": "markdown",
      "metadata": {},
      "source": ["왜 패딩 처리하지 않는가"]
    },
    {
      "cell_type": "code",
      "execution_count": 100,
      "metadata": {
        "colab": {
          "base_uri": "https://localhost:8080/",
          "height": 241,
          "referenced_widgets": [
            "f3c64bc3666145e6976db0d62765daf1",
            "97aae33a82c54dddb4eb123af989d911",
            "08ca056b6f8e4ab6948945e08e281088",
            "32b40a27a2f4486bb09fbf77c10c6d1d",
            "a1a034be010a4c4eb44e7752f1a43bed",
            "288a4871149d44c892dbb3b8514ee8f7",
            "cee4cf5246a4445ba3539d2b23db95d4",
            "d155f367e9b14d2b9204772c8fc09582",
            "4c1e0ce027e54be68d366b79b2b3c127",
            "f75e62bc331c4de987344866e450c79e",
            "ae9bbcee50f64bfe970d952bb004e57e",
            "27c09ca6d50e47b3b268c5df83b86b0d",
            "50327c1399b14d669faffd5e880da60c",
            "f0d7d2ab32e24e01a377481ad12538c9",
            "49108d0d2731431eb20bfc304db5f0db",
            "315f364c0ed545e19b5584f4b009cad3",
            "506f656a99c045d29a13d055a2943212",
            "71b47894341b4811bbf33ea9f677f560",
            "29a432d0381a4c68a3e3038d5f2db6c5",
            "6a31a1ab39c34b3a8e081040f198284a",
            "4a0c8be47fef4c25b45088bed6ca0c00",
            "f30b12aed3784764822927c4deb24794",
            "b9c0de55ffa840798447b9afc35f348a",
            "54bd0eea32ca4305bab176efd5a0949d",
            "ee8c598613b0447c9a89816eeb924f55",
            "8a136f2b1e934568a6089d83168d842a",
            "b5942b577c3c40609e5017da7c62ca5e",
            "fd5b11f1f3a24e5e9cee215d534dc77a",
            "aa95c2f3d5dd438aa43afb8d280f4e9d",
            "83517e8cd1cf4628931c1b0e8132ccb1",
            "ce5230453d8b408b81521c550514ec27",
            "71d6279b786146c98ed0ab3ecb04f358",
            "47e3e55c8ec547b2bedd30cd2ca4f899",
            "f659989964de4a738d439a7ab887386e",
            "f05cfa8a420e4baebe4323b19e30a3ae",
            "57e48c2909fe4c05b629e078dd647a7c",
            "93a0768579c3425b9e4617e3b8dfd808",
            "378d3f05b8f54811962c283990094422",
            "46851605fa4a418da43115890c1d4780",
            "6d5de7b87191496aa4b974f2e9028324",
            "a00d36edb1cd48d9a331f6861f0e9ff4",
            "1d9ca3cedc9e4f88899f8e1e424f916a",
            "1c1b825ebd764854ad34b194db719d22",
            "ab5e43f497bc4ebca5f7acb345513d1e",
            "fa46b5d89dd9489a854a2335b0a936e1",
            "a7fa012542d7433bbc6ababe2dc4579f",
            "c38eb0d7e30d4fc3bdbc96000d7ac823",
            "6b704f9d79434811ba871f665183797a",
            "74bc7d2276e84546863fa911706ee2c3",
            "8c353e9640a0454399be68192a5e5eff",
            "27a6ce3323fa4c70904de4206cbc1b41",
            "f2e5a963c098400d96eb1b1ee98990ad",
            "56213d7aa0314203804eda2fd71aa2a1",
            "311e9b7fa20e42f5b892e3825a4eb1ce",
            "70ee9950dc714b0dac55ffb8dadba4ed",
            "f3cc1107287347948dc63e6d4a88a5df",
            "15f32a7619a846a3a810b29e1bb10f8d",
            "9b5df20c73814b9a85756fc4b601ec32",
            "fde9f0aea8ea4e62a2942c33b589cb9b",
            "e32cbe0d0d5f43b9ac890dac7be91924",
            "787f095a5c9c4580ae22fb3eb1aefbb6",
            "96355a8679774b43adbcc75bbd65330a",
            "54e9b7d14aba401f816ae3ac5b42b94c",
            "99f98da451d14d3c9b9a485beb3f4aa6",
            "6e4ddd250faf43c896a90af6c239cac8",
            "02239bc9db88414b85f7ed122403acba",
            "9e24258337304405a40476fc0e32ebbb",
            "3108fb0c59c142b8a1e47a49f3e24690",
            "a8fe339a1f7d4671bfd86842753b2f65",
            "1f49a21e9f5248e582467b30c262354a",
            "8b48ce3ac24545caab626468b12a5e19",
            "489f4dcaca3c4f41856687bb46226cdf",
            "93f0f6740df74927a6a36d8c10da3473",
            "5e12f4e0c76f42098282eadff750eabf",
            "ccb0ce1342b241cc9303fddd393efbd0",
            "0ee8f2ff9ffe4fdab12264f1d2bcae29",
            "9612d7be93b14084a5390222d5fd2ea6"
          ]
        },
        "id": "rE-y8sY9HuwP",
        "outputId": "61af698c-fb91-42b9-9bfc-afbb85a77ece"
      },
      "outputs": [],
      "source": [
        "# IMDB 감정 분석 데이터셋의 5%만 로드 (학습 데이터와 테스트 데이터 각각)\n",
        "\n",
        "\n",
        "# 데이터를 배치로 묶기 위한 함수 정의\n",
        "def collate_fn(batch):\n",
        "    texts, labels = [], []  # 입력 문장들과 라벨들을 저장할 리스트\n",
        "\n",
        "    # 배치 내 각 샘플에 대해 text와 label 추출\n",
        "    for row in batch:\n",
        "        labels.append(row['label'])\n",
        "        texts.append(row['text'])\n",
        "\n",
        "    # tokenizer로 텍스트를 토큰화하고 패딩 적용\n",
        "    encoded_inputs = tokenizer(\n",
        "        texts, \n",
        "        padding='longest',  # 배치 내 가장 긴 시퀀스에 맞춰 패딩\n",
        "        max_length=512,     # 최대 길이를 512로 설정\n",
        "        truncation=False,   # truncation은 끄되, 최대 길이를 지정해 안전하게 처리\n",
        "        return_tensors='pt'  # PyTorch 텐서로 반환\n",
        "    )\n",
        "    \n",
        "    # 토큰화된 입력과 라벨 반환\n",
        "    return encoded_inputs.input_ids, torch.LongTensor(labels)\n",
        "\n",
        "# 학습용 DataLoader 정의 (shuffle=True로 배치 순서 랜덤화)\n",
        "train_loader = DataLoader(\n",
        "    train_ds, batch_size=64, shuffle=True, collate_fn=collate_fn\n",
        ")\n",
        "\n",
        "# 테스트용 DataLoader 정의 (shuffle=False로 배치 순서 고정)\n",
        "test_loader = DataLoader(\n",
        "    test_ds, batch_size=64, shuffle=False, collate_fn=collate_fn\n",
        ")"
      ]
    },
    {
      "cell_type": "code",
      "execution_count": 101,
      "metadata": {},
      "outputs": [
        {
          "name": "stdout",
          "output_type": "stream",
          "text": [
            "(tensor([[  101,  2762,  2559,  ...,     0,     0,     0],\n",
            "        [  101,  2329,  5430,  ...,     0,     0,     0],\n",
            "        [  101,  7726,  2097,  ...,     0,     0,     0],\n",
            "        ...,\n",
            "        [  101,  2825,  5964,  ...,     0,     0,     0],\n",
            "        [  101, 16222,  2208,  ...,     0,     0,     0],\n",
            "        [  101, 16012, 12589,  ...,     0,     0,     0]]), tensor([2, 3, 1, 2, 1, 1, 3, 2, 2, 2, 1, 2, 2, 3, 1, 2, 1, 2, 1, 2, 1, 3, 3, 1,\n",
            "        1, 2, 3, 3, 1, 1, 2, 0, 0, 1, 2, 3, 2, 1, 2, 3, 1, 2, 0, 3, 0, 2, 3, 1,\n",
            "        3, 1, 2, 1, 0, 3, 0, 1, 0, 0, 1, 1, 0, 1, 1, 3]))\n"
          ]
        }
      ],
      "source": [
        "first_batch = next(iter(train_loader))\n",
        "print(first_batch)"
      ]
    },
    {
      "cell_type": "code",
      "execution_count": 102,
      "metadata": {},
      "outputs": [
        {
          "name": "stdout",
          "output_type": "stream",
          "text": [
            "(tensor([[  101,  8224, 13109,  ...,     0,     0,     0],\n",
            "        [  101,  8040,  3270,  ...,     0,     0,     0],\n",
            "        [  101, 15768,  2039,  ...,     0,     0,     0],\n",
            "        ...,\n",
            "        [  101,  2599, 23125,  ...,     0,     0,     0],\n",
            "        [  101, 11909,  4915,  ...,     0,     0,     0],\n",
            "        [  101, 14086,  1005,  ...,     0,     0,     0]]), tensor([2, 1, 2, 2, 3, 2, 0, 3, 0, 3, 1, 0, 1, 1, 0, 3, 1, 3, 0, 1, 3, 3, 2, 2,\n",
            "        3, 3, 1, 1, 3, 2, 2, 3, 2, 2, 1, 2, 1, 2, 2, 1, 1, 2, 0, 3, 2, 1, 3, 3,\n",
            "        2, 2, 1, 2, 0, 3, 1, 3, 0, 3, 2, 0, 1, 3, 3, 2]))\n"
          ]
        }
      ],
      "source": [
        "first_batch = next(iter(train_loader))\n",
        "print(first_batch)"
      ]
    },
    {
      "cell_type": "markdown",
      "metadata": {
        "id": "bF34XkoYIeEm"
      },
      "source": [
        "이제 pre-trained DistilBERT를 불러옵니다. 이번에는 PyTorch hub에서 제공하는 DistilBERT를 불러봅시다."
      ]
    },
    {
      "cell_type": "code",
      "execution_count": 103,
      "metadata": {
        "colab": {
          "base_uri": "https://localhost:8080/",
          "height": 585,
          "referenced_widgets": [
            "7c5157ae5d374b53b86549e0b5d2b7fd",
            "ebc7a2ef2dc54a0dbbc953a3e9ae0b2a",
            "25ea627c042047b4b8ebf7303c109658",
            "d457f8a801a24ba28b65ed8c16aec0b7",
            "b4d6977bc5d047e6a76e04e3e5d4645e",
            "9f643a223cb940e0bcc691778c125023",
            "27b8fd6c77d74c108a76ebba5544f39d",
            "1da8f8ace9034c6f90687850f08234da",
            "1069762390904750925fca6d902ada1e",
            "a64a839ed4cd46099c3f670d2b7107d6",
            "b9be76ecb6b04e5084abe699a3f15929"
          ]
        },
        "id": "HJaUp2Vob0U-",
        "outputId": "f56be9d4-4e15-4acd-a05f-aae2e207cff4"
      },
      "outputs": [
        {
          "name": "stderr",
          "output_type": "stream",
          "text": [
            "Using cache found in C:\\Users\\junu/.cache\\torch\\hub\\huggingface_pytorch-transformers_main\n"
          ]
        },
        {
          "data": {
            "text/plain": [
              "DistilBertModel(\n",
              "  (embeddings): Embeddings(\n",
              "    (word_embeddings): Embedding(30522, 768, padding_idx=0)\n",
              "    (position_embeddings): Embedding(512, 768)\n",
              "    (LayerNorm): LayerNorm((768,), eps=1e-12, elementwise_affine=True)\n",
              "    (dropout): Dropout(p=0.1, inplace=False)\n",
              "  )\n",
              "  (transformer): Transformer(\n",
              "    (layer): ModuleList(\n",
              "      (0-5): 6 x TransformerBlock(\n",
              "        (attention): DistilBertSdpaAttention(\n",
              "          (dropout): Dropout(p=0.1, inplace=False)\n",
              "          (q_lin): Linear(in_features=768, out_features=768, bias=True)\n",
              "          (k_lin): Linear(in_features=768, out_features=768, bias=True)\n",
              "          (v_lin): Linear(in_features=768, out_features=768, bias=True)\n",
              "          (out_lin): Linear(in_features=768, out_features=768, bias=True)\n",
              "        )\n",
              "        (sa_layer_norm): LayerNorm((768,), eps=1e-12, elementwise_affine=True)\n",
              "        (ffn): FFN(\n",
              "          (dropout): Dropout(p=0.1, inplace=False)\n",
              "          (lin1): Linear(in_features=768, out_features=3072, bias=True)\n",
              "          (lin2): Linear(in_features=3072, out_features=768, bias=True)\n",
              "          (activation): GELUActivation()\n",
              "        )\n",
              "        (output_layer_norm): LayerNorm((768,), eps=1e-12, elementwise_affine=True)\n",
              "      )\n",
              "    )\n",
              "  )\n",
              ")"
            ]
          },
          "execution_count": 103,
          "metadata": {},
          "output_type": "execute_result"
        }
      ],
      "source": [
        "#DistilBERT 모델을 PyTorch Hub에서 로드 후 model 출력\n",
        "model = torch.hub.load('huggingface/pytorch-transformers', 'model', 'distilbert-base-uncased')\n",
        "model"
      ]
    },
    {
      "cell_type": "markdown",
      "metadata": {
        "id": "uh-tqY8WInQt"
      },
      "source": [
        "출력 결과를 통해 우리는 DistilBERT의 architecture는 일반적인 Transformer와 동일한 것을 알 수 있습니다.\n",
        "Embedding layer로 시작해서 여러 layer의 Attention, FFN를 거칩니다.\n",
        "\n",
        "이제 DistilBERT를 거치고 난 `[CLS]` token의 representation을 가지고 text 분류를 하는 모델을 구현합시다."
      ]
    },
    {
      "cell_type": "code",
      "execution_count": 104,
      "metadata": {
        "colab": {
          "base_uri": "https://localhost:8080/"
        },
        "id": "xW7ETZQzzNp2",
        "outputId": "6f7fb562-a638-4a7e-84e8-7a238fb5b84d"
      },
      "outputs": [
        {
          "name": "stderr",
          "output_type": "stream",
          "text": [
            "Using cache found in C:\\Users\\junu/.cache\\torch\\hub\\huggingface_pytorch-transformers_main\n"
          ]
        }
      ],
      "source": [
        "from torch import nn\n",
        "\n",
        "# 텍스트 분류 모델 정의 (DistilBERT + Linear layer)\n",
        "class TextClassifier(nn.Module):\n",
        "    def __init__(self):\n",
        "        super().__init__()\n",
        "\n",
        "        # 사전학습된 DistilBERT 모델을 encoder로 불러옴 (pretrained transformer)\n",
        "        self.encoder = torch.hub.load('huggingface/pytorch-transformers', 'model', 'distilbert-base-uncased')\n",
        "\n",
        "        # [CLS] 토큰 분류기 정의 - 4개 \n",
        "        self.classifier = nn.Linear(768, 4)\n",
        "\n",
        "    def forward(self, x):\n",
        "        # encoder에 input_ids 전달\n",
        "        x = self.encoder(x)['last_hidden_state']\n",
        "\n",
        "        # [CLS] 토큰 위치 벡터를 classification head에 전달\n",
        "        x = self.classifier(x[:, 0])\n",
        "\n",
        "        return x  # logit 출력 (4개 클래스에 대한 logit)\n",
        "\n",
        "model = TextClassifier()"
      ]
    },
    {
      "cell_type": "markdown",
      "metadata": {
        "id": "_hFvSis0JLju"
      },
      "source": [
        "위와 같이 `TextClassifier`의 `encoder`를 불러온 DistilBERT, 그리고 `classifier`를 linear layer로 설정합니다.\n",
        "그리고 `forward` 함수에서 순차적으로 사용하여 예측 결과를 반환합니다.\n",
        "\n",
        "다음은 마지막 classifier layer를 제외한 나머지 부분을 freeze하는 코드를 구현합니다."
      ]
    },
    {
      "cell_type": "code",
      "execution_count": 105,
      "metadata": {
        "id": "uyTciaPZ0KYo"
      },
      "outputs": [],
      "source": [
        "for param in model.encoder.parameters():\n",
        "  param.requires_grad = False"
      ]
    },
    {
      "cell_type": "code",
      "execution_count": 106,
      "metadata": {},
      "outputs": [
        {
          "name": "stdout",
          "output_type": "stream",
          "text": [
            "encoder.embeddings.word_embeddings.weight: False\n",
            "encoder.embeddings.position_embeddings.weight: False\n",
            "encoder.embeddings.LayerNorm.weight: False\n",
            "encoder.embeddings.LayerNorm.bias: False\n",
            "encoder.transformer.layer.0.attention.q_lin.weight: False\n",
            "encoder.transformer.layer.0.attention.q_lin.bias: False\n",
            "encoder.transformer.layer.0.attention.k_lin.weight: False\n",
            "encoder.transformer.layer.0.attention.k_lin.bias: False\n",
            "encoder.transformer.layer.0.attention.v_lin.weight: False\n",
            "encoder.transformer.layer.0.attention.v_lin.bias: False\n",
            "encoder.transformer.layer.0.attention.out_lin.weight: False\n",
            "encoder.transformer.layer.0.attention.out_lin.bias: False\n",
            "encoder.transformer.layer.0.sa_layer_norm.weight: False\n",
            "encoder.transformer.layer.0.sa_layer_norm.bias: False\n",
            "encoder.transformer.layer.0.ffn.lin1.weight: False\n",
            "encoder.transformer.layer.0.ffn.lin1.bias: False\n",
            "encoder.transformer.layer.0.ffn.lin2.weight: False\n",
            "encoder.transformer.layer.0.ffn.lin2.bias: False\n",
            "encoder.transformer.layer.0.output_layer_norm.weight: False\n",
            "encoder.transformer.layer.0.output_layer_norm.bias: False\n",
            "encoder.transformer.layer.1.attention.q_lin.weight: False\n",
            "encoder.transformer.layer.1.attention.q_lin.bias: False\n",
            "encoder.transformer.layer.1.attention.k_lin.weight: False\n",
            "encoder.transformer.layer.1.attention.k_lin.bias: False\n",
            "encoder.transformer.layer.1.attention.v_lin.weight: False\n",
            "encoder.transformer.layer.1.attention.v_lin.bias: False\n",
            "encoder.transformer.layer.1.attention.out_lin.weight: False\n",
            "encoder.transformer.layer.1.attention.out_lin.bias: False\n",
            "encoder.transformer.layer.1.sa_layer_norm.weight: False\n",
            "encoder.transformer.layer.1.sa_layer_norm.bias: False\n",
            "encoder.transformer.layer.1.ffn.lin1.weight: False\n",
            "encoder.transformer.layer.1.ffn.lin1.bias: False\n",
            "encoder.transformer.layer.1.ffn.lin2.weight: False\n",
            "encoder.transformer.layer.1.ffn.lin2.bias: False\n",
            "encoder.transformer.layer.1.output_layer_norm.weight: False\n",
            "encoder.transformer.layer.1.output_layer_norm.bias: False\n",
            "encoder.transformer.layer.2.attention.q_lin.weight: False\n",
            "encoder.transformer.layer.2.attention.q_lin.bias: False\n",
            "encoder.transformer.layer.2.attention.k_lin.weight: False\n",
            "encoder.transformer.layer.2.attention.k_lin.bias: False\n",
            "encoder.transformer.layer.2.attention.v_lin.weight: False\n",
            "encoder.transformer.layer.2.attention.v_lin.bias: False\n",
            "encoder.transformer.layer.2.attention.out_lin.weight: False\n",
            "encoder.transformer.layer.2.attention.out_lin.bias: False\n",
            "encoder.transformer.layer.2.sa_layer_norm.weight: False\n",
            "encoder.transformer.layer.2.sa_layer_norm.bias: False\n",
            "encoder.transformer.layer.2.ffn.lin1.weight: False\n",
            "encoder.transformer.layer.2.ffn.lin1.bias: False\n",
            "encoder.transformer.layer.2.ffn.lin2.weight: False\n",
            "encoder.transformer.layer.2.ffn.lin2.bias: False\n",
            "encoder.transformer.layer.2.output_layer_norm.weight: False\n",
            "encoder.transformer.layer.2.output_layer_norm.bias: False\n",
            "encoder.transformer.layer.3.attention.q_lin.weight: False\n",
            "encoder.transformer.layer.3.attention.q_lin.bias: False\n",
            "encoder.transformer.layer.3.attention.k_lin.weight: False\n",
            "encoder.transformer.layer.3.attention.k_lin.bias: False\n",
            "encoder.transformer.layer.3.attention.v_lin.weight: False\n",
            "encoder.transformer.layer.3.attention.v_lin.bias: False\n",
            "encoder.transformer.layer.3.attention.out_lin.weight: False\n",
            "encoder.transformer.layer.3.attention.out_lin.bias: False\n",
            "encoder.transformer.layer.3.sa_layer_norm.weight: False\n",
            "encoder.transformer.layer.3.sa_layer_norm.bias: False\n",
            "encoder.transformer.layer.3.ffn.lin1.weight: False\n",
            "encoder.transformer.layer.3.ffn.lin1.bias: False\n",
            "encoder.transformer.layer.3.ffn.lin2.weight: False\n",
            "encoder.transformer.layer.3.ffn.lin2.bias: False\n",
            "encoder.transformer.layer.3.output_layer_norm.weight: False\n",
            "encoder.transformer.layer.3.output_layer_norm.bias: False\n",
            "encoder.transformer.layer.4.attention.q_lin.weight: False\n",
            "encoder.transformer.layer.4.attention.q_lin.bias: False\n",
            "encoder.transformer.layer.4.attention.k_lin.weight: False\n",
            "encoder.transformer.layer.4.attention.k_lin.bias: False\n",
            "encoder.transformer.layer.4.attention.v_lin.weight: False\n",
            "encoder.transformer.layer.4.attention.v_lin.bias: False\n",
            "encoder.transformer.layer.4.attention.out_lin.weight: False\n",
            "encoder.transformer.layer.4.attention.out_lin.bias: False\n",
            "encoder.transformer.layer.4.sa_layer_norm.weight: False\n",
            "encoder.transformer.layer.4.sa_layer_norm.bias: False\n",
            "encoder.transformer.layer.4.ffn.lin1.weight: False\n",
            "encoder.transformer.layer.4.ffn.lin1.bias: False\n",
            "encoder.transformer.layer.4.ffn.lin2.weight: False\n",
            "encoder.transformer.layer.4.ffn.lin2.bias: False\n",
            "encoder.transformer.layer.4.output_layer_norm.weight: False\n",
            "encoder.transformer.layer.4.output_layer_norm.bias: False\n",
            "encoder.transformer.layer.5.attention.q_lin.weight: False\n",
            "encoder.transformer.layer.5.attention.q_lin.bias: False\n",
            "encoder.transformer.layer.5.attention.k_lin.weight: False\n",
            "encoder.transformer.layer.5.attention.k_lin.bias: False\n",
            "encoder.transformer.layer.5.attention.v_lin.weight: False\n",
            "encoder.transformer.layer.5.attention.v_lin.bias: False\n",
            "encoder.transformer.layer.5.attention.out_lin.weight: False\n",
            "encoder.transformer.layer.5.attention.out_lin.bias: False\n",
            "encoder.transformer.layer.5.sa_layer_norm.weight: False\n",
            "encoder.transformer.layer.5.sa_layer_norm.bias: False\n",
            "encoder.transformer.layer.5.ffn.lin1.weight: False\n",
            "encoder.transformer.layer.5.ffn.lin1.bias: False\n",
            "encoder.transformer.layer.5.ffn.lin2.weight: False\n",
            "encoder.transformer.layer.5.ffn.lin2.bias: False\n",
            "encoder.transformer.layer.5.output_layer_norm.weight: False\n",
            "encoder.transformer.layer.5.output_layer_norm.bias: False\n",
            "classifier.weight: True\n",
            "classifier.bias: True\n"
          ]
        }
      ],
      "source": [
        "for name, param in model.named_parameters():\n",
        "    print(f\"{name}: {param.requires_grad}\")"
      ]
    },
    {
      "cell_type": "code",
      "execution_count": 107,
      "metadata": {},
      "outputs": [
        {
          "name": "stdout",
          "output_type": "stream",
          "text": [
            "인코더 파라미터: 66362880, 학습 가능: 0\n",
            "분류기 파라미터: 3076, 학습 가능: 3076\n"
          ]
        }
      ],
      "source": [
        "# 인코더 파라미터 확인\n",
        "encoder_params = sum(p.numel() for p in model.encoder.parameters())\n",
        "encoder_trainable = sum(p.numel() for p in model.encoder.parameters() if p.requires_grad)\n",
        "print(f\"인코더 파라미터: {encoder_params}, 학습 가능: {encoder_trainable}\")\n",
        "\n",
        "# 분류기 파라미터 확인\n",
        "classifier_params = sum(p.numel() for p in model.classifier.parameters())\n",
        "classifier_trainable = sum(p.numel() for p in model.classifier.parameters() if p.requires_grad)\n",
        "print(f\"분류기 파라미터: {classifier_params}, 학습 가능: {classifier_trainable}\")"
      ]
    },
    {
      "cell_type": "markdown",
      "metadata": {
        "id": "hU7BWEbgJeKm"
      },
      "source": [
        "위의 코드는 `encoder`에 해당하는 parameter들의 `requires_grad`를 `False`로 설정하는 모습입니다.\n",
        "`requires_grad`를 `False`로 두는 경우, gradient 계산 및 업데이트가 이루어지지 않아 결과적으로 학습이 되지 않습니다.\n",
        "즉, 마지막 `classifier`에 해당하는 linear layer만 학습이 이루어집니다.\n",
        "이런 식으로 특정 부분들을 freeze하게 되면 효율적으로 학습을 할 수 있습니다.\n",
        "\n",
        "마지막으로 이전과 같은 코드를 사용하여 학습 결과를 확인해봅시다."
      ]
    },
    {
      "cell_type": "code",
      "execution_count": 108,
      "metadata": {},
      "outputs": [],
      "source": [
        "def accuracy(model, dataloader):\n",
        "    cnt = 0      # 전체 샘플 수\n",
        "    acc = 0      # 정답 개수 누적\n",
        "    \n",
        "    # 모델의 파라미터에서 디바이스 확인\n",
        "    device = next(model.parameters()).device\n",
        "    \n",
        "    for data in dataloader:\n",
        "        inputs, labels = data\n",
        "        # 파라미터에서 얻은 디바이스로 데이터 이동\n",
        "        inputs, labels = inputs.to(device), labels.to(device)\n",
        "\n",
        "        logits = model(inputs)  # 로짓(logit) 출력\n",
        "        preds = torch.argmax(logits, dim=1)  # 가장 높은 점수의 클래스 선택\n",
        "\n",
        "        cnt += labels.shape[0]  # 총 샘플 수 누적\n",
        "        acc += (labels == preds).sum().item()  # 예측이 맞은 수 누적\n",
        "\n",
        "    return acc / cnt  # 정확도 반환"
      ]
    },
    {
      "cell_type": "code",
      "execution_count": 109,
      "metadata": {
        "colab": {
          "base_uri": "https://localhost:8080/"
        },
        "id": "XvvaAEwCznt-",
        "outputId": "0c6daa2d-1a4a-44d3-90b0-a1bdc813c755"
      },
      "outputs": [
        {
          "name": "stdout",
          "output_type": "stream",
          "text": [
            "첫 번째 배치 손실 값: 1.3801814317703247\n",
            "Epoch   0 | 평균 손실: 1.0582 | 총 손실: 99.4689\n",
            "Epoch   0 | 학습 정확도: 0.804 | 테스트 정확도: 0.818\n",
            "첫 번째 배치 손실 값: 0.947978138923645\n",
            "Epoch   1 | 평균 손실: 0.7435 | 총 손실: 69.8909\n",
            "Epoch   1 | 학습 정확도: 0.832 | 테스트 정확도: 0.837\n",
            "첫 번째 배치 손실 값: 0.5723423361778259\n",
            "Epoch   2 | 평균 손실: 0.6262 | 총 손실: 58.8582\n",
            "Epoch   2 | 학습 정확도: 0.838 | 테스트 정확도: 0.834\n",
            "첫 번째 배치 손실 값: 0.625190794467926\n",
            "Epoch   3 | 평균 손실: 0.5742 | 총 손실: 53.9719\n",
            "Epoch   3 | 학습 정확도: 0.838 | 테스트 정확도: 0.829\n",
            "첫 번째 배치 손실 값: 0.602677047252655\n",
            "Epoch   4 | 평균 손실: 0.5479 | 총 손실: 51.4997\n",
            "Epoch   4 | 학습 정확도: 0.839 | 테스트 정확도: 0.837\n"
          ]
        }
      ],
      "source": [
        "\n",
        "\n",
        "# 학습 설정\n",
        "lr = 0.001\n",
        "model = model.to('cuda')  # 모델을 GPU로 이동\n",
        "loss_fn = nn.CrossEntropyLoss()  # 다중 분류용 손실 함수로 변경\n",
        "\n",
        "optimizer = Adam(model.parameters(), lr=lr)\n",
        "n_epochs = 5\n",
        "\n",
        "train_result = []\n",
        "test_result = []\n",
        "\n",
        "# 학습 루프\n",
        "for epoch in range(n_epochs):\n",
        "    model.train()  # 학습 모드 설정\n",
        "    total_loss = 0.\n",
        "    batch_count = 0\n",
        "    \n",
        "    for data in train_loader:\n",
        "        optimizer.zero_grad()  # 이전 gradient 초기화 (model.zero_grad() 대신)\n",
        "        \n",
        "        inputs, labels = data\n",
        "        inputs, labels = inputs.to('cuda'), labels.to('cuda')\n",
        "        \n",
        "        logits = model(inputs)\n",
        "        loss = loss_fn(logits, labels)\n",
        "        \n",
        "        # 손실 값 확인 (디버깅용)\n",
        "        if batch_count == 0:\n",
        "            print(f\"첫 번째 배치 손실 값: {loss.item()}\")\n",
        "            \n",
        "        loss.backward()\n",
        "        optimizer.step()\n",
        "        \n",
        "        total_loss += loss.item()\n",
        "        batch_count += 1\n",
        "    \n",
        "    # 배치 수로 나누어 평균 손실 계산\n",
        "    avg_loss = total_loss / batch_count\n",
        "    print(f\"Epoch {epoch:3d} | 평균 손실: {avg_loss:.4f} | 총 손실: {total_loss:.4f}\")\n",
        "    \n",
        "    # 학습 중간에 정확도 평가\n",
        "    with torch.no_grad():\n",
        "        model.eval()  # 평가 모드로 전환\n",
        "        train_acc = accuracy(model, train_loader)\n",
        "        test_acc = accuracy(model, test_loader)\n",
        "        print(f\"Epoch {epoch:3d} | 학습 정확도: {train_acc:.3f} | 테스트 정확도: {test_acc:.3f}\")\n",
        "        model.train()  # 다시 학습 모드로 전환\n",
        "        \n",
        "        # 결과 저장\n",
        "        train_result.append(train_acc)\n",
        "        test_result.append(test_acc)\n",
        "# ... existing code ..."
      ]
    },
    {
      "cell_type": "code",
      "execution_count": 110,
      "metadata": {
        "id": "Foks5u95ZQ1_"
      },
      "outputs": [
        {
          "data": {
            "image/png": "[encoded data removed]",
            "text/plain": ["<Figure size 640x480 with 1 Axes>"]
          },
          "metadata": {},
          "output_type": "display_data"
        }
      ],
      "source": [
        "import sys\n",
        "# 또는 상대 경로\n",
        "sys.path.append('..') \n",
        "\n",
        "from util.plot import plot_acc\n",
        "\n",
        "\n",
        "plot_acc(train_result, test_result)"
      ]
    }
  ],
  "metadata": {
    "accelerator": "GPU",
    "colab": {
      "gpuType": "T4",
      "provenance": []
    },
    "kernelspec": {
      "display_name": "ai2",
      "language": "python",
      "name": "python3"
    },
    "language_info": {
      "codemirror_mode": {
        "name": "ipython",
        "version": 3
      },
      "file_extension": ".py",
      "mimetype": "text/x-python",
      "name": "python",
      "nbconvert_exporter": "python",
      "pygments_lexer": "ipython3",
      "version": "3.11.11"
    }
  },
  "nbformat": 4,
  "nbformat_minor": 0
}
